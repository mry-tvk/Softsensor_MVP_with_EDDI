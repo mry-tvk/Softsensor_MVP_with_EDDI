{
  "cells": [
    {
      "cell_type": "markdown",
      "source": [
        "### Environment Setup"
      ],
      "metadata": {}
    },
    {
      "cell_type": "markdown",
      "source": [
        "Clone project-azua from the git-repo:"
      ],
      "metadata": {}
    },
    {
      "cell_type": "code",
      "source": [
        "# !git clone https://github.com/microsoft/project-azua.git"
      ],
      "outputs": [],
      "execution_count": 1,
      "metadata": {}
    },
    {
      "cell_type": "markdown",
      "source": [
        "**Set-up Python environement**: Create a new conda environemnt following the [instruction](https://github.com/microsoft/project-azua#2-getting-started) on the git-repo.\n",
        "\n",
        "**AzureML**: If you are working on Azure Machine Learning, [this link](https://medium.com/analytics-vidhya/how-to-create-virtual-environments-in-azure-ml-workspace-in-azure-portal-39245a34b370) helps you with creating a new environment."
      ],
      "metadata": {}
    },
    {
      "cell_type": "markdown",
      "source": [
        "### Import Packages"
      ],
      "metadata": {}
    },
    {
      "cell_type": "code",
      "source": [
        "import sys\n",
        "sys.path.append('.')\n",
        "sys.path.append(\"../../project-azua\") # appending the project-azua git-repo path; modify based on where you downloaded the repo\n",
        "sys.path.append(\"../../project-azua/azua\")\n",
        "sys.path.append(\"helpers\")"
      ],
      "outputs": [],
      "execution_count": 2,
      "metadata": {}
    },
    {
      "cell_type": "code",
      "source": [
        "# python pkgs\n",
        "import os\n",
        "import json\n",
        "import numpy as np\n",
        "import pandas as pd\n",
        "import matplotlib.pyplot as plt\n",
        "import seaborn as sns"
      ],
      "outputs": [],
      "execution_count": 3,
      "metadata": {}
    },
    {
      "cell_type": "code",
      "source": [
        "# local helper functions\n",
        "from helpers.dataprep_utils import compute_missing_ratio, get_variables_metadata"
      ],
      "outputs": [],
      "execution_count": 4,
      "metadata": {}
    },
    {
      "cell_type": "markdown",
      "source": [
        "### EDDI-Azua Setup"
      ],
      "metadata": {}
    },
    {
      "cell_type": "code",
      "source": [
        "# azua pkgs\n",
        "from azua.experiment.steps.step_func import load_data\n",
        "from azua.models.partial_vae import PartialVAE\n",
        "from azua.experiment.steps.active_learning_step import run_active_learning_main\n",
        "from azua.experiment.azua_context import AzuaContext\n",
        "from azua import models  # type: ignore"
      ],
      "outputs": [],
      "execution_count": 5,
      "metadata": {}
    },
    {
      "cell_type": "code",
      "source": [
        "# load configs from config-files\n",
        "dataset_config = json.load(open(\"config/dataset_config.json\"))\n",
        "\n",
        "configs = json.load(open(\"config/model_config_pvae.json\"))\n",
        "model_config = configs[\"model_config\"]\n",
        "training_params = configs[\"training_params\"]\n",
        "impute_config = configs[\"impute_config\"]\n",
        "objective_config = configs[\"objective_config\"]"
      ],
      "outputs": [],
      "execution_count": 6,
      "metadata": {}
    },
    {
      "cell_type": "code",
      "source": [
        "# load Azua Context\n",
        "azua_context = AzuaContext()\n",
        "azua_context.wire(modules=[sys.modules[__name__]], packages=[models])"
      ],
      "outputs": [],
      "execution_count": 7,
      "metadata": {}
    },
    {
      "cell_type": "markdown",
      "source": [
        "### Load datasets\n",
        "We load the dataset, select the columns that we want. Then save it without header and index to our data-path (data/generated). We can either store the full dataset named all.csv and let the model decide train/test portions, or we can explictly store them under train.csv and test.csv and setup the \"use_predefined_dataset\" to true in dataset_config.json file. "
      ],
      "metadata": {}
    },
    {
      "cell_type": "code",
      "source": [
        "df = pd.read_csv('./data/generated/sensor_wide.csv', index_col='time')\n",
        "df.head(2)"
      ],
      "outputs": [
        {
          "output_type": "execute_result",
          "execution_count": 8,
          "data": {
            "text/plain": "           IN1       IN2       IN3       IN4       IN5       IN6       IN7  \\\ntime                                                                         \n0     0.077744  0.795565 -0.665503  0.879321  0.134419 -0.889633  1.620600   \n1     0.080313  0.824595 -0.655447  0.875636  0.134941 -0.429724  0.742982   \n\n           IN8      Out1      Out2  \ntime                                \n0    -0.158693 -0.122686  0.123661  \n1     0.324297 -0.122686  0.123661  ",
            "text/html": "<div>\n<style scoped>\n    .dataframe tbody tr th:only-of-type {\n        vertical-align: middle;\n    }\n\n    .dataframe tbody tr th {\n        vertical-align: top;\n    }\n\n    .dataframe thead th {\n        text-align: right;\n    }\n</style>\n<table border=\"1\" class=\"dataframe\">\n  <thead>\n    <tr style=\"text-align: right;\">\n      <th></th>\n      <th>IN1</th>\n      <th>IN2</th>\n      <th>IN3</th>\n      <th>IN4</th>\n      <th>IN5</th>\n      <th>IN6</th>\n      <th>IN7</th>\n      <th>IN8</th>\n      <th>Out1</th>\n      <th>Out2</th>\n    </tr>\n    <tr>\n      <th>time</th>\n      <th></th>\n      <th></th>\n      <th></th>\n      <th></th>\n      <th></th>\n      <th></th>\n      <th></th>\n      <th></th>\n      <th></th>\n      <th></th>\n    </tr>\n  </thead>\n  <tbody>\n    <tr>\n      <th>0</th>\n      <td>0.077744</td>\n      <td>0.795565</td>\n      <td>-0.665503</td>\n      <td>0.879321</td>\n      <td>0.134419</td>\n      <td>-0.889633</td>\n      <td>1.620600</td>\n      <td>-0.158693</td>\n      <td>-0.122686</td>\n      <td>0.123661</td>\n    </tr>\n    <tr>\n      <th>1</th>\n      <td>0.080313</td>\n      <td>0.824595</td>\n      <td>-0.655447</td>\n      <td>0.875636</td>\n      <td>0.134941</td>\n      <td>-0.429724</td>\n      <td>0.742982</td>\n      <td>0.324297</td>\n      <td>-0.122686</td>\n      <td>0.123661</td>\n    </tr>\n  </tbody>\n</table>\n</div>"
          },
          "metadata": {}
        }
      ],
      "execution_count": 8,
      "metadata": {}
    },
    {
      "cell_type": "code",
      "source": [
        "df.to_csv('./data/generated/all.csv', index=False, header=False)\n",
        "dataset_config[\"use_predefined_dataset\"] = False"
      ],
      "outputs": [],
      "execution_count": 9,
      "metadata": {}
    },
    {
      "cell_type": "markdown",
      "source": [
        "We use the load_data function to create the train and test datasets; note that these files do not have any index or header."
      ],
      "metadata": {}
    },
    {
      "cell_type": "code",
      "source": [
        "# Load the dataset \n",
        "dataset = load_data(\"generated\", \"./data\", 0, dataset_config, model_config, tiny=False)"
      ],
      "outputs": [
        {
          "output_type": "stream",
          "name": "stdout",
          "text": "Minimum value of variable Column 0 inferred as -2.6966462468768704. This can be changed manually in the dataset's variables.json file\nMax value of variable Column 0 inferred as 1.59063874771148. This can be changed manually in the dataset's variables.json file\nVariable Column 0 inferred to be a queriable variable. This can be changed manually in the dataset's variables.json file by updating the \"query\" field.\nVariable Column 0 inferred as not an active learning target variable. This can be changed manually in the dataset's variables.json file by updating the \"target\" field.\nVariable Column 0 inferred as not an always observed target variable. This can be changed manually in the dataset's variables.json file by updating the \"always_observed\" field.\nMinimum value of variable Column 1 inferred as -3.4379855789852596. This can be changed manually in the dataset's variables.json file\nMax value of variable Column 1 inferred as 1.9396385112663799. This can be changed manually in the dataset's variables.json file\nVariable Column 1 inferred to be a queriable variable. This can be changed manually in the dataset's variables.json file by updating the \"query\" field.\nVariable Column 1 inferred as not an active learning target variable. This can be changed manually in the dataset's variables.json file by updating the \"target\" field.\nVariable Column 1 inferred as not an always observed target variable. This can be changed manually in the dataset's variables.json file by updating the \"always_observed\" field.\nMinimum value of variable Column 2 inferred as -2.6392040874919998. This can be changed manually in the dataset's variables.json file\nMax value of variable Column 2 inferred as 1.84460950461704. This can be changed manually in the dataset's variables.json file\nVariable Column 2 inferred to be a queriable variable. This can be changed manually in the dataset's variables.json file by updating the \"query\" field.\nVariable Column 2 inferred as not an active learning target variable. This can be changed manually in the dataset's variables.json file by updating the \"target\" field.\nVariable Column 2 inferred as not an always observed target variable. This can be changed manually in the dataset's variables.json file by updating the \"always_observed\" field.\nMinimum value of variable Column 3 inferred as -2.3545376579122403. This can be changed manually in the dataset's variables.json file\nMax value of variable Column 3 inferred as 1.6546084907968301. This can be changed manually in the dataset's variables.json file\nVariable Column 3 inferred to be a queriable variable. This can be changed manually in the dataset's variables.json file by updating the \"query\" field.\nVariable Column 3 inferred as not an active learning target variable. This can be changed manually in the dataset's variables.json file by updating the \"target\" field.\nVariable Column 3 inferred as not an always observed target variable. This can be changed manually in the dataset's variables.json file by updating the \"always_observed\" field.\nMinimum value of variable Column 4 inferred as -1.93446968960774. This can be changed manually in the dataset's variables.json file\nMax value of variable Column 4 inferred as 3.61558110613858. This can be changed manually in the dataset's variables.json file\nVariable Column 4 inferred to be a queriable variable. This can be changed manually in the dataset's variables.json file by updating the \"query\" field.\nVariable Column 4 inferred as not an active learning target variable. This can be changed manually in the dataset's variables.json file by updating the \"target\" field.\nVariable Column 4 inferred as not an always observed target variable. This can be changed manually in the dataset's variables.json file by updating the \"always_observed\" field.\nMinimum value of variable Column 5 inferred as -4.353623510303303. This can be changed manually in the dataset's variables.json file\nMax value of variable Column 5 inferred as 3.3154687524903035. This can be changed manually in the dataset's variables.json file\nVariable Column 5 inferred to be a queriable variable. This can be changed manually in the dataset's variables.json file by updating the \"query\" field.\nVariable Column 5 inferred as not an active learning target variable. This can be changed manually in the dataset's variables.json file by updating the \"target\" field.\nVariable Column 5 inferred as not an always observed target variable. This can be changed manually in the dataset's variables.json file by updating the \"always_observed\" field.\nMinimum value of variable Column 6 inferred as -4.074443929418871. This can be changed manually in the dataset's variables.json file\nMax value of variable Column 6 inferred as 3.070369860546853. This can be changed manually in the dataset's variables.json file\nVariable Column 6 inferred to be a queriable variable. This can be changed manually in the dataset's variables.json file by updating the \"query\" field.\nVariable Column 6 inferred as not an active learning target variable. This can be changed manually in the dataset's variables.json file by updating the \"target\" field.\nVariable Column 6 inferred as not an always observed target variable. This can be changed manually in the dataset's variables.json file by updating the \"always_observed\" field.\nMinimum value of variable Column 7 inferred as -3.6862518041055328. This can be changed manually in the dataset's variables.json file\nMax value of variable Column 7 inferred as 4.425623716672124. This can be changed manually in the dataset's variables.json file\nVariable Column 7 inferred to be a queriable variable. This can be changed manually in the dataset's variables.json file by updating the \"query\" field.\nVariable Column 7 inferred as not an active learning target variable. This can be changed manually in the dataset's variables.json file by updating the \"target\" field.\nVariable Column 7 inferred as not an always observed target variable. This can be changed manually in the dataset's variables.json file by updating the \"always_observed\" field.\nMinimum value of variable Column 8 inferred as -5.2016435020958. This can be changed manually in the dataset's variables.json file\nMax value of variable Column 8 inferred as 13.964232503399902. This can be changed manually in the dataset's variables.json file\nVariable Column 8 inferred to be a queriable variable. This can be changed manually in the dataset's variables.json file by updating the \"query\" field.\nVariable Column 8 inferred as not an active learning target variable. This can be changed manually in the dataset's variables.json file by updating the \"target\" field.\nVariable Column 8 inferred as not an always observed target variable. This can be changed manually in the dataset's variables.json file by updating the \"always_observed\" field.\nMinimum value of variable Column 9 inferred as -5.989070721868299. This can be changed manually in the dataset's variables.json file\nMax value of variable Column 9 inferred as 7.637227145465549. This can be changed manually in the dataset's variables.json file\nVariable Column 9 inferred to be a queriable variable. This can be changed manually in the dataset's variables.json file by updating the \"query\" field.\nVariable Column 9 inferred as not an active learning target variable. This can be changed manually in the dataset's variables.json file by updating the \"target\" field.\nVariable Column 9 inferred as not an always observed target variable. This can be changed manually in the dataset's variables.json file by updating the \"always_observed\" field.\n"
        }
      ],
      "execution_count": 10,
      "metadata": {}
    },
    {
      "cell_type": "code",
      "source": [
        "# You see the missing parts are filled with zeros but they are reflected on mask-matrix\n",
        "train_data = pd.DataFrame(dataset._train_data)\n",
        "train_data.head(10)"
      ],
      "outputs": [
        {
          "output_type": "execute_result",
          "execution_count": 11,
          "data": {
            "text/plain": "           0         1         2         3         4          5          6  \\\n0  0.0777441  0.795565 -0.665503  0.879321  0.134419  -0.889633     1.6206   \n1  0.0803125  0.824595 -0.655447  0.875636  0.134941  -0.429724   0.742982   \n2  0.0873549  0.776258  -0.65055  0.884105  0.132452   -1.42411    1.24156   \n3  0.0917736  0.739149 -0.644934  0.892043  0.131287  -0.113311   0.323872   \n4  0.0911661  0.761332 -0.648654  0.892752  0.136788  -0.552131  0.0931013   \n5  0.0876587  0.762017 -0.653656  0.896012  0.140481   -0.67941     1.1874   \n6  0.0824943  0.733398 -0.653621  0.892469  0.138193 -0.0866311     1.1315   \n7  0.0818867  0.703957 -0.650796  0.891512   0.13751  -0.710141    1.65294   \n8  0.0848141  0.637956 -0.654587  0.888535  0.135382  -0.143551    -0.2104   \n9  0.0840408  0.668218 -0.654516  0.889315  0.130926   -1.11735    1.60252   \n\n           7         8         9  \n0  -0.158693 -0.122686  0.123661  \n1   0.324297 -0.122686  0.123661  \n2 -0.0556637 -0.026857  0.123661  \n3  -0.737709 -0.026857   0.25101  \n4  -0.720496 -0.026857   0.25101  \n5    0.53594 -0.026857  0.378358  \n6   0.855154 -0.026857  0.378358  \n7  0.0431604         0  0.505707  \n8    0.31016 -0.026857  0.505707  \n9  -0.214553 -0.026857  0.633055  ",
            "text/html": "<div>\n<style scoped>\n    .dataframe tbody tr th:only-of-type {\n        vertical-align: middle;\n    }\n\n    .dataframe tbody tr th {\n        vertical-align: top;\n    }\n\n    .dataframe thead th {\n        text-align: right;\n    }\n</style>\n<table border=\"1\" class=\"dataframe\">\n  <thead>\n    <tr style=\"text-align: right;\">\n      <th></th>\n      <th>0</th>\n      <th>1</th>\n      <th>2</th>\n      <th>3</th>\n      <th>4</th>\n      <th>5</th>\n      <th>6</th>\n      <th>7</th>\n      <th>8</th>\n      <th>9</th>\n    </tr>\n  </thead>\n  <tbody>\n    <tr>\n      <th>0</th>\n      <td>0.0777441</td>\n      <td>0.795565</td>\n      <td>-0.665503</td>\n      <td>0.879321</td>\n      <td>0.134419</td>\n      <td>-0.889633</td>\n      <td>1.6206</td>\n      <td>-0.158693</td>\n      <td>-0.122686</td>\n      <td>0.123661</td>\n    </tr>\n    <tr>\n      <th>1</th>\n      <td>0.0803125</td>\n      <td>0.824595</td>\n      <td>-0.655447</td>\n      <td>0.875636</td>\n      <td>0.134941</td>\n      <td>-0.429724</td>\n      <td>0.742982</td>\n      <td>0.324297</td>\n      <td>-0.122686</td>\n      <td>0.123661</td>\n    </tr>\n    <tr>\n      <th>2</th>\n      <td>0.0873549</td>\n      <td>0.776258</td>\n      <td>-0.65055</td>\n      <td>0.884105</td>\n      <td>0.132452</td>\n      <td>-1.42411</td>\n      <td>1.24156</td>\n      <td>-0.0556637</td>\n      <td>-0.026857</td>\n      <td>0.123661</td>\n    </tr>\n    <tr>\n      <th>3</th>\n      <td>0.0917736</td>\n      <td>0.739149</td>\n      <td>-0.644934</td>\n      <td>0.892043</td>\n      <td>0.131287</td>\n      <td>-0.113311</td>\n      <td>0.323872</td>\n      <td>-0.737709</td>\n      <td>-0.026857</td>\n      <td>0.25101</td>\n    </tr>\n    <tr>\n      <th>4</th>\n      <td>0.0911661</td>\n      <td>0.761332</td>\n      <td>-0.648654</td>\n      <td>0.892752</td>\n      <td>0.136788</td>\n      <td>-0.552131</td>\n      <td>0.0931013</td>\n      <td>-0.720496</td>\n      <td>-0.026857</td>\n      <td>0.25101</td>\n    </tr>\n    <tr>\n      <th>5</th>\n      <td>0.0876587</td>\n      <td>0.762017</td>\n      <td>-0.653656</td>\n      <td>0.896012</td>\n      <td>0.140481</td>\n      <td>-0.67941</td>\n      <td>1.1874</td>\n      <td>0.53594</td>\n      <td>-0.026857</td>\n      <td>0.378358</td>\n    </tr>\n    <tr>\n      <th>6</th>\n      <td>0.0824943</td>\n      <td>0.733398</td>\n      <td>-0.653621</td>\n      <td>0.892469</td>\n      <td>0.138193</td>\n      <td>-0.0866311</td>\n      <td>1.1315</td>\n      <td>0.855154</td>\n      <td>-0.026857</td>\n      <td>0.378358</td>\n    </tr>\n    <tr>\n      <th>7</th>\n      <td>0.0818867</td>\n      <td>0.703957</td>\n      <td>-0.650796</td>\n      <td>0.891512</td>\n      <td>0.13751</td>\n      <td>-0.710141</td>\n      <td>1.65294</td>\n      <td>0.0431604</td>\n      <td>0</td>\n      <td>0.505707</td>\n    </tr>\n    <tr>\n      <th>8</th>\n      <td>0.0848141</td>\n      <td>0.637956</td>\n      <td>-0.654587</td>\n      <td>0.888535</td>\n      <td>0.135382</td>\n      <td>-0.143551</td>\n      <td>-0.2104</td>\n      <td>0.31016</td>\n      <td>-0.026857</td>\n      <td>0.505707</td>\n    </tr>\n    <tr>\n      <th>9</th>\n      <td>0.0840408</td>\n      <td>0.668218</td>\n      <td>-0.654516</td>\n      <td>0.889315</td>\n      <td>0.130926</td>\n      <td>-1.11735</td>\n      <td>1.60252</td>\n      <td>-0.214553</td>\n      <td>-0.026857</td>\n      <td>0.633055</td>\n    </tr>\n  </tbody>\n</table>\n</div>"
          },
          "metadata": {}
        }
      ],
      "execution_count": 11,
      "metadata": {}
    },
    {
      "cell_type": "code",
      "source": [
        "# You can see the missing parts are marked as False\n",
        "pd.DataFrame(dataset._train_mask).head(10)"
      ],
      "outputs": [
        {
          "output_type": "execute_result",
          "execution_count": 12,
          "data": {
            "text/plain": "      0     1     2     3     4     5     6     7      8     9\n0  True  True  True  True  True  True  True  True   True  True\n1  True  True  True  True  True  True  True  True   True  True\n2  True  True  True  True  True  True  True  True   True  True\n3  True  True  True  True  True  True  True  True   True  True\n4  True  True  True  True  True  True  True  True   True  True\n5  True  True  True  True  True  True  True  True   True  True\n6  True  True  True  True  True  True  True  True   True  True\n7  True  True  True  True  True  True  True  True  False  True\n8  True  True  True  True  True  True  True  True   True  True\n9  True  True  True  True  True  True  True  True   True  True",
            "text/html": "<div>\n<style scoped>\n    .dataframe tbody tr th:only-of-type {\n        vertical-align: middle;\n    }\n\n    .dataframe tbody tr th {\n        vertical-align: top;\n    }\n\n    .dataframe thead th {\n        text-align: right;\n    }\n</style>\n<table border=\"1\" class=\"dataframe\">\n  <thead>\n    <tr style=\"text-align: right;\">\n      <th></th>\n      <th>0</th>\n      <th>1</th>\n      <th>2</th>\n      <th>3</th>\n      <th>4</th>\n      <th>5</th>\n      <th>6</th>\n      <th>7</th>\n      <th>8</th>\n      <th>9</th>\n    </tr>\n  </thead>\n  <tbody>\n    <tr>\n      <th>0</th>\n      <td>True</td>\n      <td>True</td>\n      <td>True</td>\n      <td>True</td>\n      <td>True</td>\n      <td>True</td>\n      <td>True</td>\n      <td>True</td>\n      <td>True</td>\n      <td>True</td>\n    </tr>\n    <tr>\n      <th>1</th>\n      <td>True</td>\n      <td>True</td>\n      <td>True</td>\n      <td>True</td>\n      <td>True</td>\n      <td>True</td>\n      <td>True</td>\n      <td>True</td>\n      <td>True</td>\n      <td>True</td>\n    </tr>\n    <tr>\n      <th>2</th>\n      <td>True</td>\n      <td>True</td>\n      <td>True</td>\n      <td>True</td>\n      <td>True</td>\n      <td>True</td>\n      <td>True</td>\n      <td>True</td>\n      <td>True</td>\n      <td>True</td>\n    </tr>\n    <tr>\n      <th>3</th>\n      <td>True</td>\n      <td>True</td>\n      <td>True</td>\n      <td>True</td>\n      <td>True</td>\n      <td>True</td>\n      <td>True</td>\n      <td>True</td>\n      <td>True</td>\n      <td>True</td>\n    </tr>\n    <tr>\n      <th>4</th>\n      <td>True</td>\n      <td>True</td>\n      <td>True</td>\n      <td>True</td>\n      <td>True</td>\n      <td>True</td>\n      <td>True</td>\n      <td>True</td>\n      <td>True</td>\n      <td>True</td>\n    </tr>\n    <tr>\n      <th>5</th>\n      <td>True</td>\n      <td>True</td>\n      <td>True</td>\n      <td>True</td>\n      <td>True</td>\n      <td>True</td>\n      <td>True</td>\n      <td>True</td>\n      <td>True</td>\n      <td>True</td>\n    </tr>\n    <tr>\n      <th>6</th>\n      <td>True</td>\n      <td>True</td>\n      <td>True</td>\n      <td>True</td>\n      <td>True</td>\n      <td>True</td>\n      <td>True</td>\n      <td>True</td>\n      <td>True</td>\n      <td>True</td>\n    </tr>\n    <tr>\n      <th>7</th>\n      <td>True</td>\n      <td>True</td>\n      <td>True</td>\n      <td>True</td>\n      <td>True</td>\n      <td>True</td>\n      <td>True</td>\n      <td>True</td>\n      <td>False</td>\n      <td>True</td>\n    </tr>\n    <tr>\n      <th>8</th>\n      <td>True</td>\n      <td>True</td>\n      <td>True</td>\n      <td>True</td>\n      <td>True</td>\n      <td>True</td>\n      <td>True</td>\n      <td>True</td>\n      <td>True</td>\n      <td>True</td>\n    </tr>\n    <tr>\n      <th>9</th>\n      <td>True</td>\n      <td>True</td>\n      <td>True</td>\n      <td>True</td>\n      <td>True</td>\n      <td>True</td>\n      <td>True</td>\n      <td>True</td>\n      <td>True</td>\n      <td>True</td>\n    </tr>\n  </tbody>\n</table>\n</div>"
          },
          "metadata": {}
        }
      ],
      "execution_count": 12,
      "metadata": {}
    },
    {
      "cell_type": "markdown",
      "source": [
        "### Train model"
      ],
      "metadata": {}
    },
    {
      "cell_type": "markdown",
      "source": [
        "Here we create n_seed number of different models, one for each seed. By default n_seed = 1, so we are only showing result for single model."
      ],
      "metadata": {}
    },
    {
      "cell_type": "code",
      "source": [
        "model_dir = \"pvae_model\"\n",
        "n_seed = 1 # number of re-runs; we can do multiple runs, if we need to do hyperparameter-tuning. "
      ],
      "outputs": [],
      "execution_count": 13,
      "metadata": {}
    },
    {
      "cell_type": "code",
      "source": [
        "model = [None] * n_seed\n",
        "for i in range(n_seed):\n",
        "    print(f'training {i+1}th model')\n",
        "    model_config['random_seed'] = i\n",
        "    model[i] = PartialVAE.create(\"mymodel\", os.path.join(model_dir, 'model_' + str(i)), \n",
        "                                 dataset.variables, model_config, device = \"cpu\") # change cpu to cuda if you are running on VMs\n",
        "    model[i].run_train(dataset, training_params)"
      ],
      "outputs": [
        {
          "output_type": "stream",
          "name": "stdout",
          "text": "training 1th model\n"
        },
        {
          "output_type": "stream",
          "name": "stderr",
          "text": "../../project-azua/azua/utils/data_mask_utils.py:25: UserWarning: The given NumPy array is not writeable, and PyTorch does not support non-writeable tensors. This means you can write to the underlying (supposedly non-writeable) NumPy array using the tensor. You may want to copy the array to protect its data or make it writeable before converting it to a tensor. This type of warning will be suppressed for the rest of this program. (Triggered internally at  /opt/conda/conda-bld/pytorch_1603729062494/work/torch/csrc/utils/tensor_numpy.cpp:141.)\n  return tuple(torch.as_tensor(array, dtype=dtype, device=device) for array in arrays)\n"
        }
      ],
      "execution_count": 14,
      "metadata": {}
    },
    {
      "cell_type": "markdown",
      "source": [
        "### Missing data imputation"
      ],
      "metadata": {}
    },
    {
      "cell_type": "markdown",
      "source": [
        "Load the dataset and masks and run the imputation:"
      ],
      "metadata": {}
    },
    {
      "cell_type": "code",
      "source": [
        "df_all = pd.read_csv('./data/generated/all.csv', names=df.columns)"
      ],
      "outputs": [],
      "execution_count": 16,
      "metadata": {}
    },
    {
      "cell_type": "code",
      "source": [
        "all_mask = np.array(df.isna())"
      ],
      "outputs": [],
      "execution_count": 17,
      "metadata": {
        "jupyter": {
          "source_hidden": false,
          "outputs_hidden": false
        },
        "nteract": {
          "transient": {
            "deleting": false
          }
        }
      }
    },
    {
      "cell_type": "code",
      "source": [
        "all_data = np.array(df_all)\r\n"
      ],
      "outputs": [],
      "execution_count": 18,
      "metadata": {
        "jupyter": {
          "source_hidden": false,
          "outputs_hidden": false
        },
        "nteract": {
          "transient": {
            "deleting": false
          }
        }
      }
    },
    {
      "cell_type": "code",
      "source": [
        "df.isna().head(10)"
      ],
      "outputs": [
        {
          "output_type": "execute_result",
          "execution_count": 21,
          "data": {
            "text/plain": "        IN1    IN2    IN3    IN4    IN5    IN6    IN7    IN8   Out1   Out2\ntime                                                                      \n0     False  False  False  False  False  False  False  False  False  False\n1     False  False  False  False  False  False  False  False  False  False\n2     False  False  False  False  False  False  False  False  False  False\n3     False  False  False  False  False  False  False  False  False  False\n4     False  False  False  False  False  False  False  False  False  False\n5     False  False  False  False  False  False  False  False  False  False\n6     False  False  False  False  False  False  False  False  False  False\n7     False  False  False  False  False  False  False  False   True  False\n8     False  False  False  False  False  False  False  False  False  False\n9     False  False  False  False  False  False  False  False  False  False",
            "text/html": "<div>\n<style scoped>\n    .dataframe tbody tr th:only-of-type {\n        vertical-align: middle;\n    }\n\n    .dataframe tbody tr th {\n        vertical-align: top;\n    }\n\n    .dataframe thead th {\n        text-align: right;\n    }\n</style>\n<table border=\"1\" class=\"dataframe\">\n  <thead>\n    <tr style=\"text-align: right;\">\n      <th></th>\n      <th>IN1</th>\n      <th>IN2</th>\n      <th>IN3</th>\n      <th>IN4</th>\n      <th>IN5</th>\n      <th>IN6</th>\n      <th>IN7</th>\n      <th>IN8</th>\n      <th>Out1</th>\n      <th>Out2</th>\n    </tr>\n    <tr>\n      <th>time</th>\n      <th></th>\n      <th></th>\n      <th></th>\n      <th></th>\n      <th></th>\n      <th></th>\n      <th></th>\n      <th></th>\n      <th></th>\n      <th></th>\n    </tr>\n  </thead>\n  <tbody>\n    <tr>\n      <th>0</th>\n      <td>False</td>\n      <td>False</td>\n      <td>False</td>\n      <td>False</td>\n      <td>False</td>\n      <td>False</td>\n      <td>False</td>\n      <td>False</td>\n      <td>False</td>\n      <td>False</td>\n    </tr>\n    <tr>\n      <th>1</th>\n      <td>False</td>\n      <td>False</td>\n      <td>False</td>\n      <td>False</td>\n      <td>False</td>\n      <td>False</td>\n      <td>False</td>\n      <td>False</td>\n      <td>False</td>\n      <td>False</td>\n    </tr>\n    <tr>\n      <th>2</th>\n      <td>False</td>\n      <td>False</td>\n      <td>False</td>\n      <td>False</td>\n      <td>False</td>\n      <td>False</td>\n      <td>False</td>\n      <td>False</td>\n      <td>False</td>\n      <td>False</td>\n    </tr>\n    <tr>\n      <th>3</th>\n      <td>False</td>\n      <td>False</td>\n      <td>False</td>\n      <td>False</td>\n      <td>False</td>\n      <td>False</td>\n      <td>False</td>\n      <td>False</td>\n      <td>False</td>\n      <td>False</td>\n    </tr>\n    <tr>\n      <th>4</th>\n      <td>False</td>\n      <td>False</td>\n      <td>False</td>\n      <td>False</td>\n      <td>False</td>\n      <td>False</td>\n      <td>False</td>\n      <td>False</td>\n      <td>False</td>\n      <td>False</td>\n    </tr>\n    <tr>\n      <th>5</th>\n      <td>False</td>\n      <td>False</td>\n      <td>False</td>\n      <td>False</td>\n      <td>False</td>\n      <td>False</td>\n      <td>False</td>\n      <td>False</td>\n      <td>False</td>\n      <td>False</td>\n    </tr>\n    <tr>\n      <th>6</th>\n      <td>False</td>\n      <td>False</td>\n      <td>False</td>\n      <td>False</td>\n      <td>False</td>\n      <td>False</td>\n      <td>False</td>\n      <td>False</td>\n      <td>False</td>\n      <td>False</td>\n    </tr>\n    <tr>\n      <th>7</th>\n      <td>False</td>\n      <td>False</td>\n      <td>False</td>\n      <td>False</td>\n      <td>False</td>\n      <td>False</td>\n      <td>False</td>\n      <td>False</td>\n      <td>True</td>\n      <td>False</td>\n    </tr>\n    <tr>\n      <th>8</th>\n      <td>False</td>\n      <td>False</td>\n      <td>False</td>\n      <td>False</td>\n      <td>False</td>\n      <td>False</td>\n      <td>False</td>\n      <td>False</td>\n      <td>False</td>\n      <td>False</td>\n    </tr>\n    <tr>\n      <th>9</th>\n      <td>False</td>\n      <td>False</td>\n      <td>False</td>\n      <td>False</td>\n      <td>False</td>\n      <td>False</td>\n      <td>False</td>\n      <td>False</td>\n      <td>False</td>\n      <td>False</td>\n    </tr>\n  </tbody>\n</table>\n</div>"
          },
          "metadata": {}
        }
      ],
      "execution_count": 21,
      "metadata": {}
    },
    {
      "cell_type": "code",
      "source": [
        "# impute dataset\n",
        "imputed = model[0].impute(all_data, all_mask, impute_config)"
      ],
      "outputs": [
        {
          "output_type": "stream",
          "name": "stderr",
          "text": "100%|██████████| 145/145 [00:00<00:00, 159.90it/s]\n"
        }
      ],
      "execution_count": 22,
      "metadata": {}
    },
    {
      "cell_type": "code",
      "source": [
        "df_all_imputed = pd.DataFrame(imputed, columns=df.columns).head(10)\n",
        "df_all_imputed.to_csv('./data/prepared/prep_sensor_data.csv')"
      ],
      "outputs": [],
      "execution_count": 23,
      "metadata": {}
    },
    {
      "cell_type": "markdown",
      "source": [
        "### Quick Evaluation\n",
        "\n",
        "Visualize performance based on the columns we have ground-truth"
      ],
      "metadata": {}
    },
    {
      "cell_type": "code",
      "source": [
        "# load ground-truth data\n",
        "data_gt = pd.read_csv(\"data/original/all.csv\", index_col=0)\n",
        "eval_cols = data_gt.columns # we don't have ground-truth for the noisy columns\n",
        "\n",
        "# only evaluate cols we have ground-truth for\n",
        "eval_cols_index = [df.columns.get_loc(col) for col in eval_cols]\n",
        "imputed_gt = imputed[:, eval_cols_index]\n",
        "all_mask_gt = all_mask[:, eval_cols_index]\n",
        "data_gt = np.array(data_gt)"
      ],
      "outputs": [],
      "execution_count": 24,
      "metadata": {}
    },
    {
      "cell_type": "code",
      "source": [
        "%matplotlib inline\n",
        "ax = sns.scatterplot(x=data_gt[all_mask_gt==0].astype(np.float), y=imputed_gt[all_mask_gt==0].astype(np.float))\n",
        "ax.set(xlabel=\"True value\", ylabel=\"Imputed value\")"
      ],
      "outputs": [
        {
          "output_type": "execute_result",
          "execution_count": 25,
          "data": {
            "text/plain": "[Text(0.5, 0, 'True value'), Text(0, 0.5, 'Imputed value')]"
          },
          "metadata": {}
        },
        {
          "output_type": "display_data",
          "data": {
            "text/plain": "<Figure size 432x288 with 1 Axes>",
            "image/png": "[encoded data removed]"
          },
          "metadata": {
            "needs_background": "light"
          }
        }
      ],
      "execution_count": 25,
      "metadata": {}
    }
  ],
  "metadata": {
    "interpreter": {
      "hash": "f92a463388175cf4b5d9c63da4f1825e03e257b2b8bcd84a9fff1f6ba5e5c07e"
    },
    "kernel_info": {
      "name": "azua"
    },
    "kernelspec": {
      "name": "azua",
      "language": "python",
      "display_name": "azua"
    },
    "language_info": {
      "name": "python",
      "version": "3.8.2",
      "mimetype": "text/x-python",
      "codemirror_mode": {
        "name": "ipython",
        "version": 3
      },
      "pygments_lexer": "ipython3",
      "nbconvert_exporter": "python",
      "file_extension": ".py"
    },
    "nteract": {
      "version": "nteract-front-end@1.0.0"
    },
    "orig_nbformat": 4
  },
  "nbformat": 4,
  "nbformat_minor": 0
}