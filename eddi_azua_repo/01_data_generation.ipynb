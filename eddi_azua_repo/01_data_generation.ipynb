{
  "cells": [
    {
      "cell_type": "markdown",
      "source": [
        "### Background\n",
        "This is a small public dataset for _Soft Sensor_ use-case; which is predicting/simulating target sensors from other available sensors. \n",
        "\n",
        "The original dataset can be found <a href=\"https://data.mendeley.com/datasets/kcpnnrn67p/1\">here</a>. It is a small dataset, with 5 features and 2 targets; it has 14,400 data points in total. \n",
        "It seems it was first originated in <a href=\"https://folk.ntnu.no/skoge/prost/proceedings/ifac2002/data/content/01320/1320.pdf\">this paper</a>; where the authors explain what this dataset represents.\n",
        "\n",
        "In this notebook we do the following:\n",
        "\n",
        "\n",
        "<ul>\n",
        "  <li>Download the original data (IN & OUT tables).</li>\n",
        "  <li>Transform the dataset by introducing missingness & noise; this version:</li>\n",
        "      <ol>\n",
        "        <li>includes 3 other noisy features, that ideally should be eliminated by a feature selection process, or ranked as least significant by a feature ranking process.</li>\n",
        "        <li>Introduced missing values at random across all features (not targets) totaling 0.7% of missingness in the entire dataset.</li>\n",
        "      </ol>\n",
        "</ul>\n"
      ],
      "metadata": {}
    },
    {
      "cell_type": "code",
      "source": [
        "# pip install pyarrow"
      ],
      "outputs": [],
      "execution_count": 1,
      "metadata": {}
    },
    {
      "cell_type": "markdown",
      "source": [
        "### Helper Functions\n",
        "To keep the code cleaner, the useful/repeatable codes are moved to a folder named _helper_eddi_; these includes the useful functions for some data report, blob-storage, and working with EDDI.\n",
        "\n",
        "In this notebook, we only use data manipulation functions which are in _dataframe_utils.py_ file. "
      ],
      "metadata": {}
    },
    {
      "cell_type": "code",
      "source": [
        "# this is where my helper script folder is => named helpers\n",
        "import sys\n",
        "sys.path.append('helpers')\n",
        "\n",
        "# helper for manipulate or make a report from a dataframes\n",
        "from helpers.dataprep_utils import long_to_wide, wide_to_long, compute_missing_ratio #, plot_error"
      ],
      "outputs": [],
      "execution_count": 2,
      "metadata": {}
    },
    {
      "cell_type": "markdown",
      "source": [
        "Import other necessary packages."
      ],
      "metadata": {}
    },
    {
      "cell_type": "code",
      "source": [
        "import requests\n",
        "import pandas as pd\n",
        "import numpy as np\n",
        "import random\n",
        "import os"
      ],
      "outputs": [],
      "execution_count": 3,
      "metadata": {}
    },
    {
      "cell_type": "markdown",
      "source": [
        "Create Placeholder Data directories"
      ],
      "metadata": {}
    },
    {
      "cell_type": "code",
      "source": [
        "dir_names = [\n",
        "    \"data\",\n",
        "    \"data/original\", # we download the data into this directory\n",
        "    \"data/generated\", # the generated masked data [with the noisy features] goes into this directory\n",
        "    \"data/prepared\" # the prepared data with imputed values on missing parts goes into this directory  \n",
        "    ] \n",
        "\n",
        "for dir_name in dir_names:\n",
        "    if not os.path.exists(dir_name):\n",
        "        os.mkdir(dir_name)"
      ],
      "outputs": [],
      "execution_count": 4,
      "metadata": {}
    },
    {
      "cell_type": "markdown",
      "source": [
        "### Original Data (Ground truth)"
      ],
      "metadata": {}
    },
    {
      "cell_type": "markdown",
      "source": [
        "Download the original datasets and save them locally. We use a public dataset available from [Mendeley Data](https://data.mendeley.com/datasets/kcpnnrn67p/1), obtained from a chemical processing unit. This data and the underlying process is described in [this paper](https://folk.ntnu.no/skoge/prost/proceedings/ifac2002/data/content/01320/1320.pdf)."
      ],
      "metadata": {}
    },
    {
      "cell_type": "code",
      "source": [
        "# data links\n",
        "in_table_url = 'https://data.mendeley.com/public-files/datasets/kcpnnrn67p/files/f132a70d-11b8-43d1-aaef-facbb6e667ac/file_downloaded'\n",
        "out_table_url = 'https://data.mendeley.com/public-files/datasets/kcpnnrn67p/files/e62b3119-5435-4810-a96f-e40be1904777/file_downloaded'\n",
        "\n",
        "# download & save\n",
        "with open('./data/original/IN_Table.csv', 'wb') as f:\n",
        "    response = requests.get(in_table_url)\n",
        "    f.write(response.content)\n",
        "    \n",
        "with open('./data/original/OUT_Table.csv', 'wb') as f:\n",
        "    response = requests.get(out_table_url)\n",
        "    f.write(response.content)"
      ],
      "outputs": [],
      "execution_count": 5,
      "metadata": {}
    },
    {
      "cell_type": "markdown",
      "source": [
        "Read the dataset containing input sensor measurements."
      ],
      "metadata": {}
    },
    {
      "cell_type": "code",
      "source": [
        "df_in = pd.read_csv('./data/original/IN_Table.csv')\n",
        "df_in.head(3)"
      ],
      "outputs": [
        {
          "output_type": "execute_result",
          "execution_count": 6,
          "data": {
            "text/html": "<div>\n<style scoped>\n    .dataframe tbody tr th:only-of-type {\n        vertical-align: middle;\n    }\n\n    .dataframe tbody tr th {\n        vertical-align: top;\n    }\n\n    .dataframe thead th {\n        text-align: right;\n    }\n</style>\n<table border=\"1\" class=\"dataframe\">\n  <thead>\n    <tr style=\"text-align: right;\">\n      <th></th>\n      <th>IN1</th>\n      <th>IN2</th>\n      <th>IN3</th>\n      <th>IN4</th>\n      <th>IN5</th>\n    </tr>\n  </thead>\n  <tbody>\n    <tr>\n      <th>0</th>\n      <td>0.077744</td>\n      <td>0.795565</td>\n      <td>-0.665503</td>\n      <td>0.879321</td>\n      <td>0.134419</td>\n    </tr>\n    <tr>\n      <th>1</th>\n      <td>0.080313</td>\n      <td>0.824595</td>\n      <td>-0.655447</td>\n      <td>0.875636</td>\n      <td>0.134941</td>\n    </tr>\n    <tr>\n      <th>2</th>\n      <td>0.087355</td>\n      <td>0.776258</td>\n      <td>-0.650550</td>\n      <td>0.884105</td>\n      <td>0.132452</td>\n    </tr>\n  </tbody>\n</table>\n</div>",
            "text/plain": "        IN1       IN2       IN3       IN4       IN5\n0  0.077744  0.795565 -0.665503  0.879321  0.134419\n1  0.080313  0.824595 -0.655447  0.875636  0.134941\n2  0.087355  0.776258 -0.650550  0.884105  0.132452"
          },
          "metadata": {}
        }
      ],
      "execution_count": 6,
      "metadata": {}
    },
    {
      "cell_type": "markdown",
      "source": [
        "Read the dataset containing output sensor measurements."
      ],
      "metadata": {}
    },
    {
      "cell_type": "code",
      "source": [
        "df_out = pd.read_csv('./data/original/OUT_Table.csv')\n",
        "df_out.head(3)"
      ],
      "outputs": [
        {
          "output_type": "execute_result",
          "execution_count": 7,
          "data": {
            "text/html": "<div>\n<style scoped>\n    .dataframe tbody tr th:only-of-type {\n        vertical-align: middle;\n    }\n\n    .dataframe tbody tr th {\n        vertical-align: top;\n    }\n\n    .dataframe thead th {\n        text-align: right;\n    }\n</style>\n<table border=\"1\" class=\"dataframe\">\n  <thead>\n    <tr style=\"text-align: right;\">\n      <th></th>\n      <th>Out1</th>\n      <th>Out2</th>\n    </tr>\n  </thead>\n  <tbody>\n    <tr>\n      <th>0</th>\n      <td>-0.122686</td>\n      <td>0.123661</td>\n    </tr>\n    <tr>\n      <th>1</th>\n      <td>-0.122686</td>\n      <td>0.123661</td>\n    </tr>\n    <tr>\n      <th>2</th>\n      <td>-0.026857</td>\n      <td>0.123661</td>\n    </tr>\n  </tbody>\n</table>\n</div>",
            "text/plain": "       Out1      Out2\n0 -0.122686  0.123661\n1 -0.122686  0.123661\n2 -0.026857  0.123661"
          },
          "metadata": {}
        }
      ],
      "execution_count": 7,
      "metadata": {}
    },
    {
      "cell_type": "markdown",
      "source": [
        "Check for missing values in the input and output sensor data."
      ],
      "metadata": {}
    },
    {
      "cell_type": "code",
      "source": [
        "print(compute_missing_ratio(df_in))\n",
        "print(compute_missing_ratio(df_out))"
      ],
      "outputs": [
        {
          "output_type": "display_data",
          "data": {
            "text/html": "<div>\n<style scoped>\n    .dataframe tbody tr th:only-of-type {\n        vertical-align: middle;\n    }\n\n    .dataframe tbody tr th {\n        vertical-align: top;\n    }\n\n    .dataframe thead th {\n        text-align: right;\n    }\n</style>\n<table border=\"1\" class=\"dataframe\">\n  <thead>\n    <tr style=\"text-align: right;\">\n      <th></th>\n      <th>Missing Ratio</th>\n    </tr>\n  </thead>\n  <tbody>\n  </tbody>\n</table>\n</div>",
            "text/plain": "Empty DataFrame\nColumns: [Missing Ratio]\nIndex: []"
          },
          "metadata": {}
        },
        {
          "output_type": "stream",
          "name": "stdout",
          "text": "None\n"
        },
        {
          "output_type": "display_data",
          "data": {
            "text/html": "<div>\n<style scoped>\n    .dataframe tbody tr th:only-of-type {\n        vertical-align: middle;\n    }\n\n    .dataframe tbody tr th {\n        vertical-align: top;\n    }\n\n    .dataframe thead th {\n        text-align: right;\n    }\n</style>\n<table border=\"1\" class=\"dataframe\">\n  <thead>\n    <tr style=\"text-align: right;\">\n      <th></th>\n      <th>Missing Ratio</th>\n    </tr>\n  </thead>\n  <tbody>\n  </tbody>\n</table>\n</div>",
            "text/plain": "Empty DataFrame\nColumns: [Missing Ratio]\nIndex: []"
          },
          "metadata": {}
        },
        {
          "output_type": "stream",
          "name": "stdout",
          "text": "None\n"
        }
      ],
      "execution_count": 8,
      "metadata": {}
    },
    {
      "cell_type": "markdown",
      "source": [
        "Concatenate into one dataframe, so we can load it as one dataset the future experiments:"
      ],
      "metadata": {}
    },
    {
      "cell_type": "code",
      "source": [
        "df = pd.concat([df_in, df_out], axis=1)\n",
        "# already sorted, but just in case\n",
        "df.sort_index(inplace=True)"
      ],
      "outputs": [],
      "execution_count": 9,
      "metadata": {}
    },
    {
      "cell_type": "markdown",
      "source": [
        "Correct the column names by removing the extra leading spaces."
      ],
      "metadata": {}
    },
    {
      "cell_type": "code",
      "source": [
        "# column-names have space; cleaning col-names from extra spaces\n",
        "df.columns = [col.strip() for col in df.columns]\n",
        "# view\n",
        "df.head(3)\n",
        "\n",
        "df.to_csv('./data/original/all.csv')\n"
      ],
      "outputs": [],
      "execution_count": 11,
      "metadata": {}
    },
    {
      "cell_type": "markdown",
      "source": [
        "Keep train and test datasets separate; assuming that on the downstream task we will take the first 0.7 part of the data as train and the rest as the test part; we will do the same here & store them as the ground truth:"
      ],
      "metadata": {}
    },
    {
      "cell_type": "code",
      "source": [
        "import os\n",
        "splitpoint = df.index[int(df.shape[0] * 0.7)]\n",
        "df_train = df[df.index < splitpoint]\n",
        "df_test = df[df.index >= splitpoint]\n",
        "\n",
        "df_train.to_csv('./data/original/train.csv')\n",
        "df_test.to_csv('./data/original/test.csv')"
      ],
      "outputs": [],
      "execution_count": 12,
      "metadata": {}
    },
    {
      "cell_type": "markdown",
      "source": [
        "### Data Generation [Artificial Noise and Missingness]:"
      ],
      "metadata": {}
    },
    {
      "cell_type": "markdown",
      "source": [
        "- Add noisy columns, i.e., features\n",
        "\n",
        "Create 3 new input sensor measurements as actual measurements added to random noise. This will later be used to simulate a simple feature selection, where ideally these fabricated input sensors won’t be selected as features."
      ],
      "metadata": {}
    },
    {
      "cell_type": "code",
      "source": [
        "df['IN6'] = df['IN3'] + np.random.normal(0, 0.5, 14401)\n",
        "df['IN7'] = df['IN4'] + np.random.normal(0, 0.5, 14401)\n",
        "df['IN8'] = df['IN5'] + np.random.normal(0, 0.5, 14401)\n",
        "\n",
        "df.head(3)"
      ],
      "outputs": [
        {
          "output_type": "execute_result",
          "execution_count": 13,
          "data": {
            "text/html": "<div>\n<style scoped>\n    .dataframe tbody tr th:only-of-type {\n        vertical-align: middle;\n    }\n\n    .dataframe tbody tr th {\n        vertical-align: top;\n    }\n\n    .dataframe thead th {\n        text-align: right;\n    }\n</style>\n<table border=\"1\" class=\"dataframe\">\n  <thead>\n    <tr style=\"text-align: right;\">\n      <th></th>\n      <th>IN1</th>\n      <th>IN2</th>\n      <th>IN3</th>\n      <th>IN4</th>\n      <th>IN5</th>\n      <th>Out1</th>\n      <th>Out2</th>\n      <th>IN6</th>\n      <th>IN7</th>\n      <th>IN8</th>\n    </tr>\n  </thead>\n  <tbody>\n    <tr>\n      <th>0</th>\n      <td>0.077744</td>\n      <td>0.795565</td>\n      <td>-0.665503</td>\n      <td>0.879321</td>\n      <td>0.134419</td>\n      <td>-0.122686</td>\n      <td>0.123661</td>\n      <td>-0.823205</td>\n      <td>-0.022336</td>\n      <td>-0.033717</td>\n    </tr>\n    <tr>\n      <th>1</th>\n      <td>0.080313</td>\n      <td>0.824595</td>\n      <td>-0.655447</td>\n      <td>0.875636</td>\n      <td>0.134941</td>\n      <td>-0.122686</td>\n      <td>0.123661</td>\n      <td>-0.963025</td>\n      <td>1.161416</td>\n      <td>-0.786532</td>\n    </tr>\n    <tr>\n      <th>2</th>\n      <td>0.087355</td>\n      <td>0.776258</td>\n      <td>-0.650550</td>\n      <td>0.884105</td>\n      <td>0.132452</td>\n      <td>-0.026857</td>\n      <td>0.123661</td>\n      <td>-0.794644</td>\n      <td>0.356070</td>\n      <td>-0.096201</td>\n    </tr>\n  </tbody>\n</table>\n</div>",
            "text/plain": "        IN1       IN2       IN3       IN4       IN5      Out1      Out2  \\\n0  0.077744  0.795565 -0.665503  0.879321  0.134419 -0.122686  0.123661   \n1  0.080313  0.824595 -0.655447  0.875636  0.134941 -0.122686  0.123661   \n2  0.087355  0.776258 -0.650550  0.884105  0.132452 -0.026857  0.123661   \n\n        IN6       IN7       IN8  \n0 -0.823205 -0.022336 -0.033717  \n1 -0.963025  1.161416 -0.786532  \n2 -0.794644  0.356070 -0.096201  "
          },
          "metadata": {}
        }
      ],
      "execution_count": 13,
      "metadata": {}
    },
    {
      "cell_type": "markdown",
      "source": [
        "Make the data frame into long format, which is more commonly seen in sensor data collection."
      ],
      "metadata": {}
    },
    {
      "cell_type": "code",
      "source": [
        "# wide to long version; assumption is that the index is going to be \"time\" column in the long version\n",
        "df1 = wide_to_long(df, index_colname='time', tag_name='sensor', value_name='value')\n",
        "df1.head()"
      ],
      "outputs": [
        {
          "output_type": "execute_result",
          "execution_count": 13,
          "data": {
            "text/html": "<div>\n<style scoped>\n    .dataframe tbody tr th:only-of-type {\n        vertical-align: middle;\n    }\n\n    .dataframe tbody tr th {\n        vertical-align: top;\n    }\n\n    .dataframe thead th {\n        text-align: right;\n    }\n</style>\n<table border=\"1\" class=\"dataframe\">\n  <thead>\n    <tr style=\"text-align: right;\">\n      <th></th>\n      <th>time</th>\n      <th>sensor</th>\n      <th>value</th>\n    </tr>\n  </thead>\n  <tbody>\n    <tr>\n      <th>0</th>\n      <td>0</td>\n      <td>IN1</td>\n      <td>0.077744</td>\n    </tr>\n    <tr>\n      <th>1</th>\n      <td>1</td>\n      <td>IN1</td>\n      <td>0.080313</td>\n    </tr>\n    <tr>\n      <th>2</th>\n      <td>2</td>\n      <td>IN1</td>\n      <td>0.087355</td>\n    </tr>\n    <tr>\n      <th>3</th>\n      <td>3</td>\n      <td>IN1</td>\n      <td>0.091774</td>\n    </tr>\n    <tr>\n      <th>4</th>\n      <td>4</td>\n      <td>IN1</td>\n      <td>0.091166</td>\n    </tr>\n  </tbody>\n</table>\n</div>",
            "text/plain": "   time sensor     value\n0     0    IN1  0.077744\n1     1    IN1  0.080313\n2     2    IN1  0.087355\n3     3    IN1  0.091774\n4     4    IN1  0.091166"
          },
          "metadata": {}
        }
      ],
      "execution_count": 13,
      "metadata": {}
    },
    {
      "cell_type": "markdown",
      "source": [
        "- Add random-missingness to the data\n",
        "\n",
        "Here we artificially insert missing values at random in the data. This is just to simulate a simple strategy for missing value imputation later during data preparation. We introduce 1,000 missing measurements across all input variables."
      ],
      "metadata": {}
    },
    {
      "cell_type": "code",
      "source": [
        "col_nan = [c for c in df1['sensor'].unique()] # if c not in ['Out1', 'Out2']]\n",
        "idx_nan = random.sample(list(df1[df1['sensor'].isin(col_nan)].index), 1000)\n",
        "\n",
        "df1.loc[df1.index.isin(idx_nan), 'value'] = np.nan\n",
        "df1.head(3)"
      ],
      "outputs": [
        {
          "output_type": "execute_result",
          "execution_count": 14,
          "data": {
            "text/html": "<div>\n<style scoped>\n    .dataframe tbody tr th:only-of-type {\n        vertical-align: middle;\n    }\n\n    .dataframe tbody tr th {\n        vertical-align: top;\n    }\n\n    .dataframe thead th {\n        text-align: right;\n    }\n</style>\n<table border=\"1\" class=\"dataframe\">\n  <thead>\n    <tr style=\"text-align: right;\">\n      <th></th>\n      <th>time</th>\n      <th>sensor</th>\n      <th>value</th>\n    </tr>\n  </thead>\n  <tbody>\n    <tr>\n      <th>0</th>\n      <td>0</td>\n      <td>IN1</td>\n      <td>0.077744</td>\n    </tr>\n    <tr>\n      <th>1</th>\n      <td>1</td>\n      <td>IN1</td>\n      <td>0.080313</td>\n    </tr>\n    <tr>\n      <th>2</th>\n      <td>2</td>\n      <td>IN1</td>\n      <td>0.087355</td>\n    </tr>\n  </tbody>\n</table>\n</div>",
            "text/plain": "   time sensor     value\n0     0    IN1  0.077744\n1     1    IN1  0.080313\n2     2    IN1  0.087355"
          },
          "metadata": {}
        }
      ],
      "execution_count": 14,
      "metadata": {}
    },
    {
      "cell_type": "code",
      "source": [
        "compute_missing_ratio(df1)"
      ],
      "outputs": [
        {
          "output_type": "display_data",
          "data": {
            "text/html": "<div>\n<style scoped>\n    .dataframe tbody tr th:only-of-type {\n        vertical-align: middle;\n    }\n\n    .dataframe tbody tr th {\n        vertical-align: top;\n    }\n\n    .dataframe thead th {\n        text-align: right;\n    }\n</style>\n<table border=\"1\" class=\"dataframe\">\n  <thead>\n    <tr style=\"text-align: right;\">\n      <th></th>\n      <th>Missing Ratio</th>\n    </tr>\n  </thead>\n  <tbody>\n    <tr>\n      <th>value</th>\n      <td>0.694396</td>\n    </tr>\n  </tbody>\n</table>\n</div>",
            "text/plain": "       Missing Ratio\nvalue       0.694396"
          },
          "metadata": {}
        }
      ],
      "execution_count": 15,
      "metadata": {}
    },
    {
      "cell_type": "markdown",
      "source": [
        "Save the generated dataset as a parquet file. The dataset has 8 input variables, 3 of them artificially generated, and 2 output variables. It also has about 0.7% missing values at random across the input variables."
      ],
      "metadata": {}
    },
    {
      "cell_type": "code",
      "source": [
        "df1.to_csv('./data/generated/raw_sensor_data.csv')"
      ],
      "outputs": [],
      "execution_count": 16,
      "metadata": {}
    },
    {
      "cell_type": "markdown",
      "source": [
        "Convert to wide-version"
      ],
      "metadata": {}
    },
    {
      "cell_type": "code",
      "source": [
        "df_wide = long_to_wide(df1, tag_colname='sensor', time_colname='time', val_colname='value')\n",
        "df_wide.head(3)"
      ],
      "outputs": [
        {
          "output_type": "execute_result",
          "execution_count": 17,
          "data": {
            "text/html": "<div>\n<style scoped>\n    .dataframe tbody tr th:only-of-type {\n        vertical-align: middle;\n    }\n\n    .dataframe tbody tr th {\n        vertical-align: top;\n    }\n\n    .dataframe thead th {\n        text-align: right;\n    }\n</style>\n<table border=\"1\" class=\"dataframe\">\n  <thead>\n    <tr style=\"text-align: right;\">\n      <th></th>\n      <th>IN1</th>\n      <th>IN2</th>\n      <th>IN3</th>\n      <th>IN4</th>\n      <th>IN5</th>\n      <th>IN6</th>\n      <th>IN7</th>\n      <th>IN8</th>\n      <th>Out1</th>\n      <th>Out2</th>\n    </tr>\n    <tr>\n      <th>time</th>\n      <th></th>\n      <th></th>\n      <th></th>\n      <th></th>\n      <th></th>\n      <th></th>\n      <th></th>\n      <th></th>\n      <th></th>\n      <th></th>\n    </tr>\n  </thead>\n  <tbody>\n    <tr>\n      <th>0</th>\n      <td>0.077744</td>\n      <td>0.795565</td>\n      <td>-0.665503</td>\n      <td>0.879321</td>\n      <td>0.134419</td>\n      <td>-0.889633</td>\n      <td>1.620600</td>\n      <td>-0.158693</td>\n      <td>-0.122686</td>\n      <td>0.123661</td>\n    </tr>\n    <tr>\n      <th>1</th>\n      <td>0.080313</td>\n      <td>0.824595</td>\n      <td>-0.655447</td>\n      <td>0.875636</td>\n      <td>0.134941</td>\n      <td>-0.429724</td>\n      <td>0.742982</td>\n      <td>0.324297</td>\n      <td>-0.122686</td>\n      <td>0.123661</td>\n    </tr>\n    <tr>\n      <th>2</th>\n      <td>0.087355</td>\n      <td>0.776258</td>\n      <td>-0.650550</td>\n      <td>0.884105</td>\n      <td>0.132452</td>\n      <td>-1.424105</td>\n      <td>1.241555</td>\n      <td>-0.055664</td>\n      <td>-0.026857</td>\n      <td>0.123661</td>\n    </tr>\n  </tbody>\n</table>\n</div>",
            "text/plain": "           IN1       IN2       IN3       IN4       IN5       IN6       IN7  \\\ntime                                                                         \n0     0.077744  0.795565 -0.665503  0.879321  0.134419 -0.889633  1.620600   \n1     0.080313  0.824595 -0.655447  0.875636  0.134941 -0.429724  0.742982   \n2     0.087355  0.776258 -0.650550  0.884105  0.132452 -1.424105  1.241555   \n\n           IN8      Out1      Out2  \ntime                                \n0    -0.158693 -0.122686  0.123661  \n1     0.324297 -0.122686  0.123661  \n2    -0.055664 -0.026857  0.123661  "
          },
          "metadata": {}
        }
      ],
      "execution_count": 17,
      "metadata": {}
    },
    {
      "cell_type": "code",
      "source": [
        "df_wide.shape"
      ],
      "outputs": [
        {
          "output_type": "execute_result",
          "execution_count": 18,
          "data": {
            "text/plain": "(14401, 10)"
          },
          "metadata": {}
        }
      ],
      "execution_count": 18,
      "metadata": {}
    },
    {
      "cell_type": "code",
      "source": [
        "compute_missing_ratio(df_wide)"
      ],
      "outputs": [
        {
          "output_type": "display_data",
          "data": {
            "text/html": "<div>\n<style scoped>\n    .dataframe tbody tr th:only-of-type {\n        vertical-align: middle;\n    }\n\n    .dataframe tbody tr th {\n        vertical-align: top;\n    }\n\n    .dataframe thead th {\n        text-align: right;\n    }\n</style>\n<table border=\"1\" class=\"dataframe\">\n  <thead>\n    <tr style=\"text-align: right;\">\n      <th></th>\n      <th>Missing Ratio</th>\n    </tr>\n  </thead>\n  <tbody>\n    <tr>\n      <th>IN3</th>\n      <td>0.854107</td>\n    </tr>\n    <tr>\n      <th>Out2</th>\n      <td>0.770780</td>\n    </tr>\n    <tr>\n      <th>IN2</th>\n      <td>0.743004</td>\n    </tr>\n    <tr>\n      <th>IN8</th>\n      <td>0.729116</td>\n    </tr>\n    <tr>\n      <th>IN1</th>\n      <td>0.687452</td>\n    </tr>\n    <tr>\n      <th>IN7</th>\n      <td>0.645788</td>\n    </tr>\n    <tr>\n      <th>IN6</th>\n      <td>0.645788</td>\n    </tr>\n    <tr>\n      <th>Out1</th>\n      <td>0.631901</td>\n    </tr>\n    <tr>\n      <th>IN5</th>\n      <td>0.624957</td>\n    </tr>\n    <tr>\n      <th>IN4</th>\n      <td>0.611069</td>\n    </tr>\n  </tbody>\n</table>\n</div>",
            "text/plain": "      Missing Ratio\nIN3        0.854107\nOut2       0.770780\nIN2        0.743004\nIN8        0.729116\nIN1        0.687452\nIN7        0.645788\nIN6        0.645788\nOut1       0.631901\nIN5        0.624957\nIN4        0.611069"
          },
          "metadata": {}
        }
      ],
      "execution_count": 19,
      "metadata": {}
    },
    {
      "cell_type": "code",
      "source": [
        "df_wide.to_csv('./data/generated/sensor_wide.csv')"
      ],
      "outputs": [],
      "execution_count": 20,
      "metadata": {}
    },
    {
      "cell_type": "code",
      "source": [
        "# df_train = df_wide[df_wide.index < splitpoint]\n",
        "# df_test = df_wide[df_wide.index >= splitpoint]\n",
        "\n",
        "# df_train.to_csv('./data/generated/train.csv', index=False, header=False)\n",
        "# df_test.to_csv('./data/generated/test.csv', index=False, header=False)"
      ],
      "outputs": [],
      "execution_count": null,
      "metadata": {}
    }
  ],
  "metadata": {
    "interpreter": {
      "hash": "f92a463388175cf4b5d9c63da4f1825e03e257b2b8bcd84a9fff1f6ba5e5c07e"
    },
    "kernelspec": {
      "name": "python3",
      "language": "python",
      "display_name": "Python 3"
    },
    "language_info": {
      "name": "python",
      "version": "3.6.9",
      "mimetype": "text/x-python",
      "codemirror_mode": {
        "name": "ipython",
        "version": 3
      },
      "pygments_lexer": "ipython3",
      "nbconvert_exporter": "python",
      "file_extension": ".py"
    },
    "kernel_info": {
      "name": "python3"
    },
    "nteract": {
      "version": "nteract-front-end@1.0.0"
    }
  },
  "nbformat": 4,
  "nbformat_minor": 0
}