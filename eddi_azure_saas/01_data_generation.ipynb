{
  "cells": [
    {
      "cell_type": "markdown",
      "metadata": {},
      "source": [
        "# Background\n",
        "This is a small public dataset for _Soft Sensor_ use-case; which is predicting/simulating target sensors from other available sensors. \n",
        "\n",
        "The original dataset can be found <a href=\"https://data.mendeley.com/datasets/kcpnnrn67p/1\">here</a>. It is a small dataset, with 5 features and 2 targets; it has 14,400 data points in total. \n",
        "It seems it was first originated in <a href=\"https://folk.ntnu.no/skoge/prost/proceedings/ifac2002/data/content/01320/1320.pdf\">this paper</a>; where the authors explain what this dataset represents.\n",
        "\n",
        "In this notebook we do the following:\n",
        "\n",
        "\n",
        "<ul>\n",
        "  <li>Download the original data (IN & OUT tables).</li>\n",
        "  <li>Transform the dataset by introducing missingness & noise; this version:</li>\n",
        "      <ol>\n",
        "        <li>includes 3 other noisy features, that ideally should be eliminated by a feature selection process, or ranked as least significant by a feature ranking process.</li>\n",
        "        <li>Introduced missing values at random across all features (not targets) totaling 0.7% of missingness in the entire dataset.</li>\n",
        "      </ol>\n",
        "</ul>\n"
      ]
    },
    {
      "cell_type": "code",
      "execution_count": 1,
      "metadata": {},
      "outputs": [],
      "source": [
        "# pip install pyarrow"
      ]
    },
    {
      "cell_type": "markdown",
      "metadata": {},
      "source": [
        "## Helper Functions\n",
        "To keep the code cleaner, the useful/repeatable codes are moved to a folder named _helper_eddi_; these includes the useful functions for some data report, blob-storage, and working with EDDI.\n",
        "\n",
        "In this notebook, we only use data manipulation functions which are in _dataframe_utils.py_ file. "
      ]
    },
    {
      "cell_type": "code",
      "execution_count": 2,
      "metadata": {},
      "outputs": [],
      "source": [
        "# this is where my helper script folder is => named helpers\n",
        "import sys\n",
        "sys.path.append('helpers')\n",
        "\n",
        "# helper for manipulate or make a report from a dataframes\n",
        "from helpers.dataprep_utils import long_to_wide, wide_to_long, compute_missing_ratio #, plot_error"
      ]
    },
    {
      "cell_type": "markdown",
      "metadata": {},
      "source": [
        "Import other necessary packages."
      ]
    },
    {
      "cell_type": "code",
      "execution_count": 3,
      "metadata": {},
      "outputs": [],
      "source": [
        "import requests\n",
        "import pandas as pd\n",
        "import numpy as np\n",
        "import random\n",
        "import os"
      ]
    },
    {
      "cell_type": "markdown",
      "metadata": {},
      "source": [
        "Create Placeholder Data directories"
      ]
    },
    {
      "cell_type": "code",
      "execution_count": null,
      "metadata": {},
      "outputs": [],
      "source": [
        "dir_names = [\n",
        "    \"data_original\", # we download the data into this directory\n",
        "    \"data_generated\", # the generated masked data [with the noisy features] goes into this directory\n",
        "    \"data_prepared\", \n",
        "    \"data_prepared/train\", # the prepared train-data with imputed values on missing parts goes into this directory \n",
        "    \"data_prepared/test\" # the prepared test-data with imputed values on missing parts goes into this directory \n",
        "    ] \n",
        "\n",
        "for dir_name in dir_names:\n",
        "    if not os.path.exists(dir_name):\n",
        "        os.mkdir(dir_name)"
      ]
    },
    {
      "cell_type": "markdown",
      "metadata": {},
      "source": [
        "Download the original datasets and save them locally. We use a public dataset available from [Mendeley Data](https://data.mendeley.com/datasets/kcpnnrn67p/1), obtained from a chemical processing unit. This data and the underlying process is described in [this paper](https://folk.ntnu.no/skoge/prost/proceedings/ifac2002/data/content/01320/1320.pdf)."
      ]
    },
    {
      "cell_type": "code",
      "execution_count": 4,
      "metadata": {},
      "outputs": [],
      "source": [
        "# data links\n",
        "in_table_url = 'https://data.mendeley.com/public-files/datasets/kcpnnrn67p/files/f132a70d-11b8-43d1-aaef-facbb6e667ac/file_downloaded'\n",
        "out_table_url = 'https://data.mendeley.com/public-files/datasets/kcpnnrn67p/files/e62b3119-5435-4810-a96f-e40be1904777/file_downloaded'\n",
        "\n",
        "# download & save\n",
        "with open('./data_original/IN_Table.csv', 'wb') as f:\n",
        "    response = requests.get(in_table_url)\n",
        "    f.write(response.content)\n",
        "    \n",
        "with open('./data_original/OUT_Table.csv', 'wb') as f:\n",
        "    response = requests.get(out_table_url)\n",
        "    f.write(response.content)"
      ]
    },
    {
      "cell_type": "markdown",
      "metadata": {},
      "source": [
        "Read the dataset containing input sensor measurements."
      ]
    },
    {
      "cell_type": "code",
      "execution_count": 5,
      "metadata": {},
      "outputs": [
        {
          "data": {
            "text/html": [
              "<div>\n",
              "<style scoped>\n",
              "    .dataframe tbody tr th:only-of-type {\n",
              "        vertical-align: middle;\n",
              "    }\n",
              "\n",
              "    .dataframe tbody tr th {\n",
              "        vertical-align: top;\n",
              "    }\n",
              "\n",
              "    .dataframe thead th {\n",
              "        text-align: right;\n",
              "    }\n",
              "</style>\n",
              "<table border=\"1\" class=\"dataframe\">\n",
              "  <thead>\n",
              "    <tr style=\"text-align: right;\">\n",
              "      <th></th>\n",
              "      <th>IN1</th>\n",
              "      <th>IN2</th>\n",
              "      <th>IN3</th>\n",
              "      <th>IN4</th>\n",
              "      <th>IN5</th>\n",
              "    </tr>\n",
              "  </thead>\n",
              "  <tbody>\n",
              "    <tr>\n",
              "      <th>0</th>\n",
              "      <td>0.077744</td>\n",
              "      <td>0.795565</td>\n",
              "      <td>-0.665503</td>\n",
              "      <td>0.879321</td>\n",
              "      <td>0.134419</td>\n",
              "    </tr>\n",
              "    <tr>\n",
              "      <th>1</th>\n",
              "      <td>0.080313</td>\n",
              "      <td>0.824595</td>\n",
              "      <td>-0.655447</td>\n",
              "      <td>0.875636</td>\n",
              "      <td>0.134941</td>\n",
              "    </tr>\n",
              "    <tr>\n",
              "      <th>2</th>\n",
              "      <td>0.087355</td>\n",
              "      <td>0.776258</td>\n",
              "      <td>-0.650550</td>\n",
              "      <td>0.884105</td>\n",
              "      <td>0.132452</td>\n",
              "    </tr>\n",
              "  </tbody>\n",
              "</table>\n",
              "</div>"
            ],
            "text/plain": [
              "        IN1       IN2       IN3       IN4       IN5\n",
              "0  0.077744  0.795565 -0.665503  0.879321  0.134419\n",
              "1  0.080313  0.824595 -0.655447  0.875636  0.134941\n",
              "2  0.087355  0.776258 -0.650550  0.884105  0.132452"
            ]
          },
          "execution_count": 5,
          "metadata": {},
          "output_type": "execute_result"
        }
      ],
      "source": [
        "df_in = pd.read_csv('./data_original/IN_Table.csv')\n",
        "df_in.head(3)"
      ]
    },
    {
      "cell_type": "markdown",
      "metadata": {},
      "source": [
        "Read the dataset containing output sensor measurements."
      ]
    },
    {
      "cell_type": "code",
      "execution_count": 6,
      "metadata": {},
      "outputs": [
        {
          "data": {
            "text/html": [
              "<div>\n",
              "<style scoped>\n",
              "    .dataframe tbody tr th:only-of-type {\n",
              "        vertical-align: middle;\n",
              "    }\n",
              "\n",
              "    .dataframe tbody tr th {\n",
              "        vertical-align: top;\n",
              "    }\n",
              "\n",
              "    .dataframe thead th {\n",
              "        text-align: right;\n",
              "    }\n",
              "</style>\n",
              "<table border=\"1\" class=\"dataframe\">\n",
              "  <thead>\n",
              "    <tr style=\"text-align: right;\">\n",
              "      <th></th>\n",
              "      <th>Out1</th>\n",
              "      <th>Out2</th>\n",
              "    </tr>\n",
              "  </thead>\n",
              "  <tbody>\n",
              "    <tr>\n",
              "      <th>0</th>\n",
              "      <td>-0.122686</td>\n",
              "      <td>0.123661</td>\n",
              "    </tr>\n",
              "    <tr>\n",
              "      <th>1</th>\n",
              "      <td>-0.122686</td>\n",
              "      <td>0.123661</td>\n",
              "    </tr>\n",
              "    <tr>\n",
              "      <th>2</th>\n",
              "      <td>-0.026857</td>\n",
              "      <td>0.123661</td>\n",
              "    </tr>\n",
              "  </tbody>\n",
              "</table>\n",
              "</div>"
            ],
            "text/plain": [
              "       Out1      Out2\n",
              "0 -0.122686  0.123661\n",
              "1 -0.122686  0.123661\n",
              "2 -0.026857  0.123661"
            ]
          },
          "execution_count": 6,
          "metadata": {},
          "output_type": "execute_result"
        }
      ],
      "source": [
        "df_out = pd.read_csv('./data_original/OUT_Table.csv')\n",
        "df_out.head(3)"
      ]
    },
    {
      "cell_type": "markdown",
      "metadata": {},
      "source": [
        "Check for missing values in the input and output sensor data."
      ]
    },
    {
      "cell_type": "code",
      "execution_count": 7,
      "metadata": {},
      "outputs": [
        {
          "data": {
            "text/html": [
              "<div>\n",
              "<style scoped>\n",
              "    .dataframe tbody tr th:only-of-type {\n",
              "        vertical-align: middle;\n",
              "    }\n",
              "\n",
              "    .dataframe tbody tr th {\n",
              "        vertical-align: top;\n",
              "    }\n",
              "\n",
              "    .dataframe thead th {\n",
              "        text-align: right;\n",
              "    }\n",
              "</style>\n",
              "<table border=\"1\" class=\"dataframe\">\n",
              "  <thead>\n",
              "    <tr style=\"text-align: right;\">\n",
              "      <th></th>\n",
              "      <th>Missing Ratio</th>\n",
              "    </tr>\n",
              "  </thead>\n",
              "  <tbody>\n",
              "  </tbody>\n",
              "</table>\n",
              "</div>"
            ],
            "text/plain": [
              "Empty DataFrame\n",
              "Columns: [Missing Ratio]\n",
              "Index: []"
            ]
          },
          "metadata": {},
          "output_type": "display_data"
        },
        {
          "name": "stdout",
          "output_type": "stream",
          "text": [
            "None\n"
          ]
        },
        {
          "data": {
            "text/html": [
              "<div>\n",
              "<style scoped>\n",
              "    .dataframe tbody tr th:only-of-type {\n",
              "        vertical-align: middle;\n",
              "    }\n",
              "\n",
              "    .dataframe tbody tr th {\n",
              "        vertical-align: top;\n",
              "    }\n",
              "\n",
              "    .dataframe thead th {\n",
              "        text-align: right;\n",
              "    }\n",
              "</style>\n",
              "<table border=\"1\" class=\"dataframe\">\n",
              "  <thead>\n",
              "    <tr style=\"text-align: right;\">\n",
              "      <th></th>\n",
              "      <th>Missing Ratio</th>\n",
              "    </tr>\n",
              "  </thead>\n",
              "  <tbody>\n",
              "  </tbody>\n",
              "</table>\n",
              "</div>"
            ],
            "text/plain": [
              "Empty DataFrame\n",
              "Columns: [Missing Ratio]\n",
              "Index: []"
            ]
          },
          "metadata": {},
          "output_type": "display_data"
        },
        {
          "name": "stdout",
          "output_type": "stream",
          "text": [
            "None\n"
          ]
        }
      ],
      "source": [
        "print(compute_missing_ratio(df_in))\n",
        "print(compute_missing_ratio(df_out))"
      ]
    },
    {
      "cell_type": "markdown",
      "metadata": {},
      "source": [
        "Concatenate into one dataframe, so we can load it as one dataset the future experiments:"
      ]
    },
    {
      "cell_type": "code",
      "execution_count": 8,
      "metadata": {},
      "outputs": [],
      "source": [
        "df = pd.concat([df_in, df_out], axis=1)\n",
        "# already sorted, but just in case\n",
        "df.sort_index(inplace=True)"
      ]
    },
    {
      "cell_type": "markdown",
      "metadata": {},
      "source": [
        "Correct the column names by removing the extra leading spaces."
      ]
    },
    {
      "cell_type": "code",
      "execution_count": 9,
      "metadata": {},
      "outputs": [
        {
          "data": {
            "text/html": [
              "<div>\n",
              "<style scoped>\n",
              "    .dataframe tbody tr th:only-of-type {\n",
              "        vertical-align: middle;\n",
              "    }\n",
              "\n",
              "    .dataframe tbody tr th {\n",
              "        vertical-align: top;\n",
              "    }\n",
              "\n",
              "    .dataframe thead th {\n",
              "        text-align: right;\n",
              "    }\n",
              "</style>\n",
              "<table border=\"1\" class=\"dataframe\">\n",
              "  <thead>\n",
              "    <tr style=\"text-align: right;\">\n",
              "      <th></th>\n",
              "      <th>IN1</th>\n",
              "      <th>IN2</th>\n",
              "      <th>IN3</th>\n",
              "      <th>IN4</th>\n",
              "      <th>IN5</th>\n",
              "      <th>Out1</th>\n",
              "      <th>Out2</th>\n",
              "    </tr>\n",
              "  </thead>\n",
              "  <tbody>\n",
              "    <tr>\n",
              "      <th>0</th>\n",
              "      <td>0.077744</td>\n",
              "      <td>0.795565</td>\n",
              "      <td>-0.665503</td>\n",
              "      <td>0.879321</td>\n",
              "      <td>0.134419</td>\n",
              "      <td>-0.122686</td>\n",
              "      <td>0.123661</td>\n",
              "    </tr>\n",
              "    <tr>\n",
              "      <th>1</th>\n",
              "      <td>0.080313</td>\n",
              "      <td>0.824595</td>\n",
              "      <td>-0.655447</td>\n",
              "      <td>0.875636</td>\n",
              "      <td>0.134941</td>\n",
              "      <td>-0.122686</td>\n",
              "      <td>0.123661</td>\n",
              "    </tr>\n",
              "    <tr>\n",
              "      <th>2</th>\n",
              "      <td>0.087355</td>\n",
              "      <td>0.776258</td>\n",
              "      <td>-0.650550</td>\n",
              "      <td>0.884105</td>\n",
              "      <td>0.132452</td>\n",
              "      <td>-0.026857</td>\n",
              "      <td>0.123661</td>\n",
              "    </tr>\n",
              "  </tbody>\n",
              "</table>\n",
              "</div>"
            ],
            "text/plain": [
              "        IN1       IN2       IN3       IN4       IN5      Out1      Out2\n",
              "0  0.077744  0.795565 -0.665503  0.879321  0.134419 -0.122686  0.123661\n",
              "1  0.080313  0.824595 -0.655447  0.875636  0.134941 -0.122686  0.123661\n",
              "2  0.087355  0.776258 -0.650550  0.884105  0.132452 -0.026857  0.123661"
            ]
          },
          "execution_count": 9,
          "metadata": {},
          "output_type": "execute_result"
        }
      ],
      "source": [
        "# column-names have space; cleaning col-names from extra spaces\n",
        "df.columns = [col.strip() for col in df.columns]\n",
        "# view\n",
        "df.head(3)"
      ]
    },
    {
      "cell_type": "markdown",
      "metadata": {},
      "source": [
        "## Artificial Noise and Missingness:"
      ]
    },
    {
      "cell_type": "markdown",
      "metadata": {},
      "source": [
        "- Add noisy columns, i.e., features\n",
        "\n",
        "Create 3 new input sensor measurements as actual measurements added to random noise. This will later be used to simulate a simple feature selection, where ideally these fabricated input sensors won’t be selected as features."
      ]
    },
    {
      "cell_type": "code",
      "execution_count": 10,
      "metadata": {},
      "outputs": [
        {
          "data": {
            "text/html": [
              "<div>\n",
              "<style scoped>\n",
              "    .dataframe tbody tr th:only-of-type {\n",
              "        vertical-align: middle;\n",
              "    }\n",
              "\n",
              "    .dataframe tbody tr th {\n",
              "        vertical-align: top;\n",
              "    }\n",
              "\n",
              "    .dataframe thead th {\n",
              "        text-align: right;\n",
              "    }\n",
              "</style>\n",
              "<table border=\"1\" class=\"dataframe\">\n",
              "  <thead>\n",
              "    <tr style=\"text-align: right;\">\n",
              "      <th></th>\n",
              "      <th>IN1</th>\n",
              "      <th>IN2</th>\n",
              "      <th>IN3</th>\n",
              "      <th>IN4</th>\n",
              "      <th>IN5</th>\n",
              "      <th>Out1</th>\n",
              "      <th>Out2</th>\n",
              "      <th>IN6</th>\n",
              "      <th>IN7</th>\n",
              "      <th>IN8</th>\n",
              "    </tr>\n",
              "  </thead>\n",
              "  <tbody>\n",
              "    <tr>\n",
              "      <th>0</th>\n",
              "      <td>0.077744</td>\n",
              "      <td>0.795565</td>\n",
              "      <td>-0.665503</td>\n",
              "      <td>0.879321</td>\n",
              "      <td>0.134419</td>\n",
              "      <td>-0.122686</td>\n",
              "      <td>0.123661</td>\n",
              "      <td>-1.133765</td>\n",
              "      <td>0.253945</td>\n",
              "      <td>0.109987</td>\n",
              "    </tr>\n",
              "    <tr>\n",
              "      <th>1</th>\n",
              "      <td>0.080313</td>\n",
              "      <td>0.824595</td>\n",
              "      <td>-0.655447</td>\n",
              "      <td>0.875636</td>\n",
              "      <td>0.134941</td>\n",
              "      <td>-0.122686</td>\n",
              "      <td>0.123661</td>\n",
              "      <td>-1.212052</td>\n",
              "      <td>1.661342</td>\n",
              "      <td>-0.090342</td>\n",
              "    </tr>\n",
              "    <tr>\n",
              "      <th>2</th>\n",
              "      <td>0.087355</td>\n",
              "      <td>0.776258</td>\n",
              "      <td>-0.650550</td>\n",
              "      <td>0.884105</td>\n",
              "      <td>0.132452</td>\n",
              "      <td>-0.026857</td>\n",
              "      <td>0.123661</td>\n",
              "      <td>-1.294233</td>\n",
              "      <td>0.399097</td>\n",
              "      <td>-0.255465</td>\n",
              "    </tr>\n",
              "  </tbody>\n",
              "</table>\n",
              "</div>"
            ],
            "text/plain": [
              "        IN1       IN2       IN3       IN4       IN5      Out1      Out2  \\\n",
              "0  0.077744  0.795565 -0.665503  0.879321  0.134419 -0.122686  0.123661   \n",
              "1  0.080313  0.824595 -0.655447  0.875636  0.134941 -0.122686  0.123661   \n",
              "2  0.087355  0.776258 -0.650550  0.884105  0.132452 -0.026857  0.123661   \n",
              "\n",
              "        IN6       IN7       IN8  \n",
              "0 -1.133765  0.253945  0.109987  \n",
              "1 -1.212052  1.661342 -0.090342  \n",
              "2 -1.294233  0.399097 -0.255465  "
            ]
          },
          "execution_count": 10,
          "metadata": {},
          "output_type": "execute_result"
        }
      ],
      "source": [
        "df['IN6'] = df['IN3'] + np.random.normal(0, 0.5, 14401)\n",
        "df['IN7'] = df['IN4'] + np.random.normal(0, 0.5, 14401)\n",
        "df['IN8'] = df['IN5'] + np.random.normal(0, 0.5, 14401)\n",
        "\n",
        "df.head(3)"
      ]
    },
    {
      "cell_type": "markdown",
      "metadata": {},
      "source": [
        "Make the data frame into long format, which is more commonly seen in sensor data collection."
      ]
    },
    {
      "cell_type": "code",
      "execution_count": 11,
      "metadata": {},
      "outputs": [
        {
          "data": {
            "text/html": [
              "<div>\n",
              "<style scoped>\n",
              "    .dataframe tbody tr th:only-of-type {\n",
              "        vertical-align: middle;\n",
              "    }\n",
              "\n",
              "    .dataframe tbody tr th {\n",
              "        vertical-align: top;\n",
              "    }\n",
              "\n",
              "    .dataframe thead th {\n",
              "        text-align: right;\n",
              "    }\n",
              "</style>\n",
              "<table border=\"1\" class=\"dataframe\">\n",
              "  <thead>\n",
              "    <tr style=\"text-align: right;\">\n",
              "      <th></th>\n",
              "      <th>time</th>\n",
              "      <th>sensor</th>\n",
              "      <th>value</th>\n",
              "    </tr>\n",
              "  </thead>\n",
              "  <tbody>\n",
              "    <tr>\n",
              "      <th>0</th>\n",
              "      <td>0</td>\n",
              "      <td>IN1</td>\n",
              "      <td>0.077744</td>\n",
              "    </tr>\n",
              "    <tr>\n",
              "      <th>1</th>\n",
              "      <td>1</td>\n",
              "      <td>IN1</td>\n",
              "      <td>0.080313</td>\n",
              "    </tr>\n",
              "    <tr>\n",
              "      <th>2</th>\n",
              "      <td>2</td>\n",
              "      <td>IN1</td>\n",
              "      <td>0.087355</td>\n",
              "    </tr>\n",
              "    <tr>\n",
              "      <th>3</th>\n",
              "      <td>3</td>\n",
              "      <td>IN1</td>\n",
              "      <td>0.091774</td>\n",
              "    </tr>\n",
              "    <tr>\n",
              "      <th>4</th>\n",
              "      <td>4</td>\n",
              "      <td>IN1</td>\n",
              "      <td>0.091166</td>\n",
              "    </tr>\n",
              "  </tbody>\n",
              "</table>\n",
              "</div>"
            ],
            "text/plain": [
              "   time sensor     value\n",
              "0     0    IN1  0.077744\n",
              "1     1    IN1  0.080313\n",
              "2     2    IN1  0.087355\n",
              "3     3    IN1  0.091774\n",
              "4     4    IN1  0.091166"
            ]
          },
          "execution_count": 11,
          "metadata": {},
          "output_type": "execute_result"
        }
      ],
      "source": [
        "# wide to long version; assumption is that the index is going to be \"time\" column in the long version\n",
        "df1 = wide_to_long(df, index_colname='time', tag_name='sensor', value_name='value')\n",
        "df1.head()"
      ]
    },
    {
      "cell_type": "markdown",
      "metadata": {},
      "source": [
        "- Add random-missingness to the data\n",
        "\n",
        "Here we artificially insert missing values at random in the data. This is just to simulate a simple strategy for missing value imputation later during data preparation. We introduce 1,000 missing measurements across all input variables."
      ]
    },
    {
      "cell_type": "code",
      "execution_count": 12,
      "metadata": {},
      "outputs": [
        {
          "data": {
            "text/html": [
              "<div>\n",
              "<style scoped>\n",
              "    .dataframe tbody tr th:only-of-type {\n",
              "        vertical-align: middle;\n",
              "    }\n",
              "\n",
              "    .dataframe tbody tr th {\n",
              "        vertical-align: top;\n",
              "    }\n",
              "\n",
              "    .dataframe thead th {\n",
              "        text-align: right;\n",
              "    }\n",
              "</style>\n",
              "<table border=\"1\" class=\"dataframe\">\n",
              "  <thead>\n",
              "    <tr style=\"text-align: right;\">\n",
              "      <th></th>\n",
              "      <th>time</th>\n",
              "      <th>sensor</th>\n",
              "      <th>value</th>\n",
              "    </tr>\n",
              "  </thead>\n",
              "  <tbody>\n",
              "    <tr>\n",
              "      <th>0</th>\n",
              "      <td>0</td>\n",
              "      <td>IN1</td>\n",
              "      <td>0.077744</td>\n",
              "    </tr>\n",
              "    <tr>\n",
              "      <th>1</th>\n",
              "      <td>1</td>\n",
              "      <td>IN1</td>\n",
              "      <td>0.080313</td>\n",
              "    </tr>\n",
              "    <tr>\n",
              "      <th>2</th>\n",
              "      <td>2</td>\n",
              "      <td>IN1</td>\n",
              "      <td>0.087355</td>\n",
              "    </tr>\n",
              "  </tbody>\n",
              "</table>\n",
              "</div>"
            ],
            "text/plain": [
              "   time sensor     value\n",
              "0     0    IN1  0.077744\n",
              "1     1    IN1  0.080313\n",
              "2     2    IN1  0.087355"
            ]
          },
          "execution_count": 12,
          "metadata": {},
          "output_type": "execute_result"
        }
      ],
      "source": [
        "col_nan = [c for c in df1['sensor'].unique()] # if c not in ['Out1', 'Out2']]\n",
        "idx_nan = random.sample(list(df1[df1['sensor'].isin(col_nan)].index), 1000)\n",
        "\n",
        "df1.loc[df1.index.isin(idx_nan), 'value'] = np.nan\n",
        "df1.head(3)"
      ]
    },
    {
      "cell_type": "code",
      "execution_count": 13,
      "metadata": {},
      "outputs": [
        {
          "data": {
            "text/html": [
              "<div>\n",
              "<style scoped>\n",
              "    .dataframe tbody tr th:only-of-type {\n",
              "        vertical-align: middle;\n",
              "    }\n",
              "\n",
              "    .dataframe tbody tr th {\n",
              "        vertical-align: top;\n",
              "    }\n",
              "\n",
              "    .dataframe thead th {\n",
              "        text-align: right;\n",
              "    }\n",
              "</style>\n",
              "<table border=\"1\" class=\"dataframe\">\n",
              "  <thead>\n",
              "    <tr style=\"text-align: right;\">\n",
              "      <th></th>\n",
              "      <th>Missing Ratio</th>\n",
              "    </tr>\n",
              "  </thead>\n",
              "  <tbody>\n",
              "    <tr>\n",
              "      <th>value</th>\n",
              "      <td>0.694396</td>\n",
              "    </tr>\n",
              "  </tbody>\n",
              "</table>\n",
              "</div>"
            ],
            "text/plain": [
              "       Missing Ratio\n",
              "value       0.694396"
            ]
          },
          "metadata": {},
          "output_type": "display_data"
        }
      ],
      "source": [
        "compute_missing_ratio(df1)"
      ]
    },
    {
      "cell_type": "markdown",
      "metadata": {},
      "source": [
        "Save the generated dataset as a parquet file. The dataset has 8 input variables, 3 of them artificially generated, and 2 output variables. It also has about 0.7% missing values at random across the input variables."
      ]
    },
    {
      "cell_type": "code",
      "execution_count": 14,
      "metadata": {},
      "outputs": [],
      "source": [
        "# pip install pyarrow"
      ]
    },
    {
      "cell_type": "code",
      "execution_count": 15,
      "metadata": {},
      "outputs": [],
      "source": [
        "df1.to_csv('./data_generated/raw_sensor_data.csv')"
      ]
    },
    {
      "cell_type": "markdown",
      "metadata": {},
      "source": [
        "Convert to wide-version"
      ]
    },
    {
      "cell_type": "code",
      "execution_count": 16,
      "metadata": {},
      "outputs": [
        {
          "data": {
            "text/html": [
              "<div>\n",
              "<style scoped>\n",
              "    .dataframe tbody tr th:only-of-type {\n",
              "        vertical-align: middle;\n",
              "    }\n",
              "\n",
              "    .dataframe tbody tr th {\n",
              "        vertical-align: top;\n",
              "    }\n",
              "\n",
              "    .dataframe thead th {\n",
              "        text-align: right;\n",
              "    }\n",
              "</style>\n",
              "<table border=\"1\" class=\"dataframe\">\n",
              "  <thead>\n",
              "    <tr style=\"text-align: right;\">\n",
              "      <th></th>\n",
              "      <th>IN1</th>\n",
              "      <th>IN2</th>\n",
              "      <th>IN3</th>\n",
              "      <th>IN4</th>\n",
              "      <th>IN5</th>\n",
              "      <th>IN6</th>\n",
              "      <th>IN7</th>\n",
              "      <th>IN8</th>\n",
              "      <th>Out1</th>\n",
              "      <th>Out2</th>\n",
              "    </tr>\n",
              "    <tr>\n",
              "      <th>time</th>\n",
              "      <th></th>\n",
              "      <th></th>\n",
              "      <th></th>\n",
              "      <th></th>\n",
              "      <th></th>\n",
              "      <th></th>\n",
              "      <th></th>\n",
              "      <th></th>\n",
              "      <th></th>\n",
              "      <th></th>\n",
              "    </tr>\n",
              "  </thead>\n",
              "  <tbody>\n",
              "    <tr>\n",
              "      <th>0</th>\n",
              "      <td>0.077744</td>\n",
              "      <td>0.795565</td>\n",
              "      <td>-0.665503</td>\n",
              "      <td>0.879321</td>\n",
              "      <td>0.134419</td>\n",
              "      <td>-1.133765</td>\n",
              "      <td>0.253945</td>\n",
              "      <td>0.109987</td>\n",
              "      <td>-0.122686</td>\n",
              "      <td>0.123661</td>\n",
              "    </tr>\n",
              "    <tr>\n",
              "      <th>1</th>\n",
              "      <td>0.080313</td>\n",
              "      <td>0.824595</td>\n",
              "      <td>-0.655447</td>\n",
              "      <td>0.875636</td>\n",
              "      <td>0.134941</td>\n",
              "      <td>-1.212052</td>\n",
              "      <td>1.661342</td>\n",
              "      <td>-0.090342</td>\n",
              "      <td>-0.122686</td>\n",
              "      <td>0.123661</td>\n",
              "    </tr>\n",
              "    <tr>\n",
              "      <th>2</th>\n",
              "      <td>0.087355</td>\n",
              "      <td>0.776258</td>\n",
              "      <td>-0.650550</td>\n",
              "      <td>0.884105</td>\n",
              "      <td>0.132452</td>\n",
              "      <td>-1.294233</td>\n",
              "      <td>0.399097</td>\n",
              "      <td>-0.255465</td>\n",
              "      <td>-0.026857</td>\n",
              "      <td>0.123661</td>\n",
              "    </tr>\n",
              "  </tbody>\n",
              "</table>\n",
              "</div>"
            ],
            "text/plain": [
              "           IN1       IN2       IN3       IN4       IN5       IN6       IN7  \\\n",
              "time                                                                         \n",
              "0     0.077744  0.795565 -0.665503  0.879321  0.134419 -1.133765  0.253945   \n",
              "1     0.080313  0.824595 -0.655447  0.875636  0.134941 -1.212052  1.661342   \n",
              "2     0.087355  0.776258 -0.650550  0.884105  0.132452 -1.294233  0.399097   \n",
              "\n",
              "           IN8      Out1      Out2  \n",
              "time                                \n",
              "0     0.109987 -0.122686  0.123661  \n",
              "1    -0.090342 -0.122686  0.123661  \n",
              "2    -0.255465 -0.026857  0.123661  "
            ]
          },
          "execution_count": 16,
          "metadata": {},
          "output_type": "execute_result"
        }
      ],
      "source": [
        "df_wide = long_to_wide(df1, tag_colname='sensor', time_colname='time', val_colname='value')\n",
        "df_wide.head(3)"
      ]
    },
    {
      "cell_type": "code",
      "execution_count": 17,
      "metadata": {},
      "outputs": [
        {
          "data": {
            "text/plain": [
              "(14401, 10)"
            ]
          },
          "execution_count": 17,
          "metadata": {},
          "output_type": "execute_result"
        }
      ],
      "source": [
        "df_wide.shape"
      ]
    },
    {
      "cell_type": "code",
      "execution_count": 18,
      "metadata": {},
      "outputs": [
        {
          "data": {
            "text/html": [
              "<div>\n",
              "<style scoped>\n",
              "    .dataframe tbody tr th:only-of-type {\n",
              "        vertical-align: middle;\n",
              "    }\n",
              "\n",
              "    .dataframe tbody tr th {\n",
              "        vertical-align: top;\n",
              "    }\n",
              "\n",
              "    .dataframe thead th {\n",
              "        text-align: right;\n",
              "    }\n",
              "</style>\n",
              "<table border=\"1\" class=\"dataframe\">\n",
              "  <thead>\n",
              "    <tr style=\"text-align: right;\">\n",
              "      <th></th>\n",
              "      <th>Missing Ratio</th>\n",
              "    </tr>\n",
              "  </thead>\n",
              "  <tbody>\n",
              "    <tr>\n",
              "      <th>IN4</th>\n",
              "      <td>0.763836</td>\n",
              "    </tr>\n",
              "    <tr>\n",
              "      <th>IN8</th>\n",
              "      <td>0.743004</td>\n",
              "    </tr>\n",
              "    <tr>\n",
              "      <th>IN3</th>\n",
              "      <td>0.743004</td>\n",
              "    </tr>\n",
              "    <tr>\n",
              "      <th>IN2</th>\n",
              "      <td>0.743004</td>\n",
              "    </tr>\n",
              "    <tr>\n",
              "      <th>IN1</th>\n",
              "      <td>0.743004</td>\n",
              "    </tr>\n",
              "    <tr>\n",
              "      <th>Out1</th>\n",
              "      <td>0.687452</td>\n",
              "    </tr>\n",
              "    <tr>\n",
              "      <th>IN5</th>\n",
              "      <td>0.687452</td>\n",
              "    </tr>\n",
              "    <tr>\n",
              "      <th>IN6</th>\n",
              "      <td>0.680508</td>\n",
              "    </tr>\n",
              "    <tr>\n",
              "      <th>Out2</th>\n",
              "      <td>0.576349</td>\n",
              "    </tr>\n",
              "    <tr>\n",
              "      <th>IN7</th>\n",
              "      <td>0.576349</td>\n",
              "    </tr>\n",
              "  </tbody>\n",
              "</table>\n",
              "</div>"
            ],
            "text/plain": [
              "      Missing Ratio\n",
              "IN4        0.763836\n",
              "IN8        0.743004\n",
              "IN3        0.743004\n",
              "IN2        0.743004\n",
              "IN1        0.743004\n",
              "Out1       0.687452\n",
              "IN5        0.687452\n",
              "IN6        0.680508\n",
              "Out2       0.576349\n",
              "IN7        0.576349"
            ]
          },
          "metadata": {},
          "output_type": "display_data"
        }
      ],
      "source": [
        "compute_missing_ratio(df_wide)"
      ]
    },
    {
      "cell_type": "code",
      "execution_count": 19,
      "metadata": {},
      "outputs": [],
      "source": [
        "df_wide.to_csv('./data_generated/sensor_wide.csv')"
      ]
    }
  ],
  "metadata": {
    "kernel_info": {
      "name": "python3"
    },
    "kernelspec": {
      "display_name": "Python 3",
      "language": "python",
      "name": "python3"
    },
    "language_info": {
      "codemirror_mode": {
        "name": "ipython",
        "version": 3
      },
      "file_extension": ".py",
      "mimetype": "text/x-python",
      "name": "python",
      "nbconvert_exporter": "python",
      "pygments_lexer": "ipython3",
      "version": "3.6.9"
    },
    "nteract": {
      "version": "nteract-front-end@1.0.0"
    }
  },
  "nbformat": 4,
  "nbformat_minor": 0
}
