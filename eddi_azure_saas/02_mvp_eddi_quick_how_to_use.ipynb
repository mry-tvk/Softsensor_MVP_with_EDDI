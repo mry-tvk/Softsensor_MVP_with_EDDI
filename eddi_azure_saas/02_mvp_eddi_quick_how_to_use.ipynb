{
  "cells": [
    {
      "cell_type": "code",
      "source": [
        "import sys\n",
        "sys.path.append('.')"
      ],
      "outputs": [],
      "execution_count": 3,
      "metadata": {}
    },
    {
      "cell_type": "code",
      "source": [
        "# pip install azure-storage-blob --upgrade"
      ],
      "outputs": [],
      "execution_count": 2,
      "metadata": {}
    },
    {
      "cell_type": "code",
      "source": [
        "from helpers.dataprep_utils import compute_missing_ratio\n",
        "from helpers.sas_utils import get_data_link, get_placeholder_link\n",
        "from helpers.service_utils import RestEDDI"
      ],
      "outputs": [],
      "execution_count": 4,
      "metadata": {}
    },
    {
      "cell_type": "code",
      "source": [
        "import pandas as pd\n",
        "import os\n",
        "import toml"
      ],
      "outputs": [],
      "execution_count": 5,
      "metadata": {}
    },
    {
      "cell_type": "code",
      "source": [
        "df_sensors = pd.read_csv('./data_generated/sensor_wide.csv', index_col=0)\n",
        "df_sensors.head(3)"
      ],
      "outputs": [
        {
          "output_type": "execute_result",
          "execution_count": 6,
          "data": {
            "text/html": "<div>\n<style scoped>\n    .dataframe tbody tr th:only-of-type {\n        vertical-align: middle;\n    }\n\n    .dataframe tbody tr th {\n        vertical-align: top;\n    }\n\n    .dataframe thead th {\n        text-align: right;\n    }\n</style>\n<table border=\"1\" class=\"dataframe\">\n  <thead>\n    <tr style=\"text-align: right;\">\n      <th></th>\n      <th>IN1</th>\n      <th>IN2</th>\n      <th>IN3</th>\n      <th>IN4</th>\n      <th>IN5</th>\n      <th>IN6</th>\n      <th>IN7</th>\n      <th>IN8</th>\n      <th>Out1</th>\n      <th>Out2</th>\n    </tr>\n    <tr>\n      <th>time</th>\n      <th></th>\n      <th></th>\n      <th></th>\n      <th></th>\n      <th></th>\n      <th></th>\n      <th></th>\n      <th></th>\n      <th></th>\n      <th></th>\n    </tr>\n  </thead>\n  <tbody>\n    <tr>\n      <th>0</th>\n      <td>0.077744</td>\n      <td>0.795565</td>\n      <td>-0.665503</td>\n      <td>0.879321</td>\n      <td>0.134419</td>\n      <td>-1.133765</td>\n      <td>0.253945</td>\n      <td>0.109987</td>\n      <td>-0.122686</td>\n      <td>0.123661</td>\n    </tr>\n    <tr>\n      <th>1</th>\n      <td>0.080313</td>\n      <td>0.824595</td>\n      <td>-0.655447</td>\n      <td>0.875636</td>\n      <td>0.134941</td>\n      <td>-1.212052</td>\n      <td>1.661342</td>\n      <td>-0.090342</td>\n      <td>-0.122686</td>\n      <td>0.123661</td>\n    </tr>\n    <tr>\n      <th>2</th>\n      <td>0.087355</td>\n      <td>0.776258</td>\n      <td>-0.650550</td>\n      <td>0.884105</td>\n      <td>0.132452</td>\n      <td>-1.294233</td>\n      <td>0.399097</td>\n      <td>-0.255465</td>\n      <td>-0.026857</td>\n      <td>0.123661</td>\n    </tr>\n  </tbody>\n</table>\n</div>",
            "text/plain": "           IN1       IN2       IN3       IN4       IN5       IN6       IN7  \\\ntime                                                                         \n0     0.077744  0.795565 -0.665503  0.879321  0.134419 -1.133765  0.253945   \n1     0.080313  0.824595 -0.655447  0.875636  0.134941 -1.212052  1.661342   \n2     0.087355  0.776258 -0.650550  0.884105  0.132452 -1.294233  0.399097   \n\n           IN8      Out1      Out2  \ntime                                \n0     0.109987 -0.122686  0.123661  \n1    -0.090342 -0.122686  0.123661  \n2    -0.255465 -0.026857  0.123661  "
          },
          "metadata": {}
        }
      ],
      "execution_count": 6,
      "metadata": {}
    },
    {
      "cell_type": "code",
      "source": [
        "compute_missing_ratio(df_sensors)"
      ],
      "outputs": [
        {
          "output_type": "display_data",
          "data": {
            "text/html": "<div>\n<style scoped>\n    .dataframe tbody tr th:only-of-type {\n        vertical-align: middle;\n    }\n\n    .dataframe tbody tr th {\n        vertical-align: top;\n    }\n\n    .dataframe thead th {\n        text-align: right;\n    }\n</style>\n<table border=\"1\" class=\"dataframe\">\n  <thead>\n    <tr style=\"text-align: right;\">\n      <th></th>\n      <th>Missing Ratio</th>\n    </tr>\n  </thead>\n  <tbody>\n    <tr>\n      <th>IN4</th>\n      <td>0.763836</td>\n    </tr>\n    <tr>\n      <th>IN8</th>\n      <td>0.743004</td>\n    </tr>\n    <tr>\n      <th>IN3</th>\n      <td>0.743004</td>\n    </tr>\n    <tr>\n      <th>IN2</th>\n      <td>0.743004</td>\n    </tr>\n    <tr>\n      <th>IN1</th>\n      <td>0.743004</td>\n    </tr>\n    <tr>\n      <th>Out1</th>\n      <td>0.687452</td>\n    </tr>\n    <tr>\n      <th>IN5</th>\n      <td>0.687452</td>\n    </tr>\n    <tr>\n      <th>IN6</th>\n      <td>0.680508</td>\n    </tr>\n    <tr>\n      <th>Out2</th>\n      <td>0.576349</td>\n    </tr>\n    <tr>\n      <th>IN7</th>\n      <td>0.576349</td>\n    </tr>\n  </tbody>\n</table>\n</div>",
            "text/plain": "      Missing Ratio\nIN4        0.763836\nIN8        0.743004\nIN3        0.743004\nIN2        0.743004\nIN1        0.743004\nOut1       0.687452\nIN5        0.687452\nIN6        0.680508\nOut2       0.576349\nIN7        0.576349"
          },
          "metadata": {}
        }
      ],
      "execution_count": 7,
      "metadata": {}
    },
    {
      "cell_type": "markdown",
      "source": [
        "## EDDI Initial Setup\n",
        "\n",
        "Loads **container_sas_key** that we want to upload the train/test data; we create a directory in that container with the name that was set up in _blob_storage_root_. It also loads **subscription_key** that we recieved after subscribing for EDDI-api."
      ],
      "metadata": {}
    },
    {
      "cell_type": "code",
      "source": [
        "config = toml.load(\"config/config.toml\")\n",
        "\n",
        "container_sas_link = config['blob']['container_sas_link']\n",
        "subscription_key = config['eddi']['subscription_key']"
      ],
      "outputs": [],
      "execution_count": 8,
      "metadata": {}
    },
    {
      "cell_type": "markdown",
      "source": [
        "Use helper functions to upload data to blob storage & create SAS link; also use RestEDDI to do facilitate REST request for train and batch inference:"
      ],
      "metadata": {}
    },
    {
      "cell_type": "code",
      "source": [
        "rest_eddi = RestEDDI(subscription_key, api_version=\"v2.3\")"
      ],
      "outputs": [],
      "execution_count": 9,
      "metadata": {}
    },
    {
      "cell_type": "markdown",
      "source": [
        "Select the name for local directory & directory on blob to host the data"
      ],
      "metadata": {}
    },
    {
      "cell_type": "code",
      "source": [
        "local_storage_root = './data_temp/'\n",
        "blob_storage_root = 'sensor_datasets'\n",
        "\n",
        "if not os.path.exists(local_storage_root): os.makedirs(local_storage_root)\n",
        "df_sensors.to_csv(local_storage_root + 'sensor_wide.csv', index=False, header=False)\n",
        "\n",
        "# blob storage\n",
        "training_data_source = get_data_link(local_storage_root + 'sensor_wide.csv', container_sas_link, directory_name=blob_storage_root)"
      ],
      "outputs": [],
      "execution_count": 10,
      "metadata": {}
    },
    {
      "cell_type": "markdown",
      "source": [
        "EDDI-MVP Train Parameter Setup"
      ],
      "metadata": {}
    },
    {
      "cell_type": "code",
      "source": [
        "variables_metadata = []\n",
        "epsilon = 0.01\n",
        "\n",
        "# we need to create a list of dict for columns' meta-data\n",
        "for idx, col in enumerate(df_sensors.columns):\n",
        "    col_info = {\n",
        "            \"query\": True,\n",
        "            \"type\": \"continuous\",\n",
        "            \"name\": col,\n",
        "            \"lower\": df_sensors[col].min() - epsilon *  df_sensors[col].min(),\n",
        "            \"upper\": df_sensors[col].max() + epsilon * df_sensors[col].max()\n",
        "    }\n",
        "    variables_metadata.append(col_info)"
      ],
      "outputs": [],
      "execution_count": 22,
      "metadata": {}
    },
    {
      "cell_type": "code",
      "source": [
        "train_input = {\n",
        "    \"training_data_source\": training_data_source,\n",
        "    \"model_hyperparams\":{\n",
        "        \"decoder_variances\": 1e-6\n",
        "    },\n",
        "    \"variables_metadata\": variables_metadata,\n",
        "    \"training_hyperparams\":{\n",
        "        \"epochs\": 1000,\n",
        "        \"iterations\":400\n",
        "    }\n",
        "}"
      ],
      "outputs": [],
      "execution_count": 23,
      "metadata": {}
    },
    {
      "cell_type": "markdown",
      "source": [
        "EDDI-MVP train request\n",
        "\n",
        "To keep the notebook cleaner, we model the following three lines into another function and will use that one on the next notebooks: "
      ],
      "metadata": {}
    },
    {
      "cell_type": "code",
      "source": [
        "operation_id = rest_eddi.train_model(train_input)"
      ],
      "outputs": [
        {
          "output_type": "stream",
          "name": "stdout",
          "text": "<Response [200]>\n200\n'a7de641d66024984b8c384a500574c0a'\n"
        }
      ],
      "execution_count": 24,
      "metadata": {}
    },
    {
      "cell_type": "code",
      "source": [
        "# check the status of the operation until its done\n",
        "status = rest_eddi.wait_for_operation_to_complete(operation_id, operation_name=\"train\")"
      ],
      "outputs": [
        {
          "output_type": "stream",
          "name": "stdout",
          "text": "Operation status: Completed\ntrain running time: 1972.4830317497253 seconds\n"
        }
      ],
      "execution_count": 25,
      "metadata": {}
    },
    {
      "cell_type": "code",
      "source": [
        "model_id = operation_id"
      ],
      "outputs": [],
      "execution_count": 26,
      "metadata": {}
    },
    {
      "cell_type": "markdown",
      "source": [
        "Imputate the same dataset"
      ],
      "metadata": {}
    },
    {
      "cell_type": "code",
      "source": [
        "# prediction on the same dataset\n",
        "testing_data_source = training_data_source\n",
        "imputed_data_source = get_placeholder_link(local_storage_root + 'sensor_wide_impute.csv', container_sas_link, directory_name=blob_storage_root, delete_prev=True)"
      ],
      "outputs": [],
      "execution_count": 29,
      "metadata": {}
    },
    {
      "cell_type": "code",
      "source": [
        "batch_inference_input = {\n",
        "    \"hyperparameters\":\n",
        "    {\n",
        "        \"sample_count\": 50\n",
        "    },\n",
        "    \"data_source\": testing_data_source,\n",
        "    \"output\": imputed_data_source\n",
        "}"
      ],
      "outputs": [],
      "execution_count": 30,
      "metadata": {}
    },
    {
      "cell_type": "code",
      "source": [
        "operation_id = rest_eddi.batch_inference(model_id, batch_inference_input)"
      ],
      "outputs": [
        {
          "output_type": "stream",
          "name": "stdout",
          "text": "<Response [200]>\n200\n'a9e1f8f1dcc24d06908c4e3cd4a0fcf5'\n"
        }
      ],
      "execution_count": 31,
      "metadata": {}
    },
    {
      "cell_type": "code",
      "source": [
        "status = rest_eddi.wait_for_operation_to_complete(operation_id, operation_name=\"batch_inference\")"
      ],
      "outputs": [],
      "execution_count": 41,
      "metadata": {}
    },
    {
      "cell_type": "markdown",
      "source": [
        "Download and store data locally"
      ],
      "metadata": {}
    },
    {
      "cell_type": "code",
      "source": [
        "df_sensors_imputed = pd.read_csv(imputed_data_source, names=df_sensors.columns)"
      ],
      "outputs": [],
      "execution_count": 48,
      "metadata": {}
    },
    {
      "cell_type": "code",
      "source": [
        "df_sensors_imputed.head(3)"
      ],
      "outputs": [
        {
          "output_type": "execute_result",
          "execution_count": 49,
          "data": {
            "text/html": "<div>\n<style scoped>\n    .dataframe tbody tr th:only-of-type {\n        vertical-align: middle;\n    }\n\n    .dataframe tbody tr th {\n        vertical-align: top;\n    }\n\n    .dataframe thead th {\n        text-align: right;\n    }\n</style>\n<table border=\"1\" class=\"dataframe\">\n  <thead>\n    <tr style=\"text-align: right;\">\n      <th></th>\n      <th>IN1</th>\n      <th>IN2</th>\n      <th>IN3</th>\n      <th>IN4</th>\n      <th>IN5</th>\n      <th>IN6</th>\n      <th>IN7</th>\n      <th>IN8</th>\n      <th>Out1</th>\n      <th>Out2</th>\n    </tr>\n  </thead>\n  <tbody>\n    <tr>\n      <th>0</th>\n      <td>0.077744</td>\n      <td>0.795565</td>\n      <td>-0.665503</td>\n      <td>0.879322</td>\n      <td>0.134419</td>\n      <td>-1.133765</td>\n      <td>0.253945</td>\n      <td>0.109987</td>\n      <td>-0.122686</td>\n      <td>0.123661</td>\n    </tr>\n    <tr>\n      <th>1</th>\n      <td>0.080313</td>\n      <td>0.824595</td>\n      <td>-0.655447</td>\n      <td>0.875636</td>\n      <td>0.134941</td>\n      <td>-1.212052</td>\n      <td>1.661342</td>\n      <td>-0.090342</td>\n      <td>-0.122686</td>\n      <td>0.123661</td>\n    </tr>\n    <tr>\n      <th>2</th>\n      <td>0.087355</td>\n      <td>0.776258</td>\n      <td>-0.650550</td>\n      <td>0.884105</td>\n      <td>0.132452</td>\n      <td>-1.294233</td>\n      <td>0.399097</td>\n      <td>-0.255465</td>\n      <td>-0.026857</td>\n      <td>0.123661</td>\n    </tr>\n  </tbody>\n</table>\n</div>",
            "text/plain": "        IN1       IN2       IN3       IN4       IN5       IN6       IN7  \\\n0  0.077744  0.795565 -0.665503  0.879322  0.134419 -1.133765  0.253945   \n1  0.080313  0.824595 -0.655447  0.875636  0.134941 -1.212052  1.661342   \n2  0.087355  0.776258 -0.650550  0.884105  0.132452 -1.294233  0.399097   \n\n        IN8      Out1      Out2  \n0  0.109987 -0.122686  0.123661  \n1 -0.090342 -0.122686  0.123661  \n2 -0.255465 -0.026857  0.123661  "
          },
          "metadata": {}
        }
      ],
      "execution_count": 49,
      "metadata": {}
    },
    {
      "cell_type": "code",
      "source": [
        "compute_missing_ratio(df_sensors_imputed)"
      ],
      "outputs": [
        {
          "output_type": "display_data",
          "data": {
            "text/html": "<div>\n<style scoped>\n    .dataframe tbody tr th:only-of-type {\n        vertical-align: middle;\n    }\n\n    .dataframe tbody tr th {\n        vertical-align: top;\n    }\n\n    .dataframe thead th {\n        text-align: right;\n    }\n</style>\n<table border=\"1\" class=\"dataframe\">\n  <thead>\n    <tr style=\"text-align: right;\">\n      <th></th>\n      <th>Missing Ratio</th>\n    </tr>\n  </thead>\n  <tbody>\n  </tbody>\n</table>\n</div>",
            "text/plain": "Empty DataFrame\nColumns: [Missing Ratio]\nIndex: []"
          },
          "metadata": {}
        }
      ],
      "execution_count": 58,
      "metadata": {}
    },
    {
      "cell_type": "code",
      "source": [
        "df_sensors_imputed.to_csv('./data_prepared/prep_sensor_data.csv')"
      ],
      "outputs": [],
      "execution_count": 54,
      "metadata": {}
    }
  ],
  "metadata": {
    "interpreter": {
      "hash": "6d65a8c07f5b6469e0fc613f182488c0dccce05038bbda39e5ac9075c0454d11"
    },
    "kernel_info": {
      "name": "python3"
    },
    "kernelspec": {
      "name": "python3",
      "language": "python",
      "display_name": "Python 3"
    },
    "language_info": {
      "name": "python",
      "version": "3.6.9",
      "mimetype": "text/x-python",
      "codemirror_mode": {
        "name": "ipython",
        "version": 3
      },
      "pygments_lexer": "ipython3",
      "nbconvert_exporter": "python",
      "file_extension": ".py"
    },
    "nteract": {
      "version": "nteract-front-end@1.0.0"
    },
    "orig_nbformat": 4
  },
  "nbformat": 4,
  "nbformat_minor": 0
}